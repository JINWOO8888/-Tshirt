{
 "cells": [
  {
   "cell_type": "code",
   "execution_count": 1,
   "metadata": {},
   "outputs": [],
   "source": [
    "import pandas as pd"
   ]
  },
  {
   "cell_type": "code",
   "execution_count": 56,
   "metadata": {},
   "outputs": [
    {
     "name": "stdout",
     "output_type": "stream",
     "text": [
      "Collecting ipwhois\n",
      "  Downloading ipwhois-1.2.0-py2.py3-none-any.whl (73 kB)\n",
      "     ---------------------------------------- 0.0/73.5 kB ? eta -:--:--\n",
      "     ---------------------- ----------------- 41.0/73.5 kB 1.9 MB/s eta 0:00:01\n",
      "     ---------------------------------------- 73.5/73.5 kB 2.0 MB/s eta 0:00:00\n",
      "Collecting dnspython<=2.0.0 (from ipwhois)\n",
      "  Downloading dnspython-2.0.0-py3-none-any.whl (208 kB)\n",
      "     ---------------------------------------- 0.0/208.3 kB ? eta -:--:--\n",
      "     ------------------------------------- 208.3/208.3 kB 12.4 MB/s eta 0:00:00\n",
      "Installing collected packages: dnspython, ipwhois\n",
      "Successfully installed dnspython-2.0.0 ipwhois-1.2.0\n",
      "Note: you may need to restart the kernel to use updated packages.\n"
     ]
    },
    {
     "name": "stderr",
     "output_type": "stream",
     "text": [
      "\n",
      "[notice] A new release of pip is available: 23.2.1 -> 23.3.1\n",
      "[notice] To update, run: C:\\Users\\ujn9\\AppData\\Local\\Microsoft\\WindowsApps\\PythonSoftwareFoundation.Python.3.11_qbz5n2kfra8p0\\python.exe -m pip install --upgrade pip\n"
     ]
    }
   ],
   "source": [
    "pip install ipwhois"
   ]
  },
  {
   "cell_type": "code",
   "execution_count": 7,
   "metadata": {},
   "outputs": [
    {
     "name": "stderr",
     "output_type": "stream",
     "text": [
      "C:\\Users\\ujn9\\AppData\\Local\\Temp\\ipykernel_5584\\3917221033.py:5: DtypeWarning: Columns (10,12,14,16,17) have mixed types. Specify dtype option on import or set low_memory=False.\n",
      "  normal_member = pd.read_csv('./dataset/정상회원데이터.csv')\n",
      "C:\\Users\\ujn9\\AppData\\Local\\Temp\\ipykernel_5584\\3917221033.py:6: DtypeWarning: Columns (7,10,11,12,16,17) have mixed types. Specify dtype option on import or set low_memory=False.\n",
      "  weird_member = pd.read_csv('./dataset/이상회원데이터.csv')\n"
     ]
    }
   ],
   "source": [
    "keywords = pd.read_csv('./dataset/금지어keyword.csv')\n",
    "blacklist = pd.read_csv('./dataset/블랙리스트정보v2 - 복사본.csv', encoding='latin1')\n",
    "normal_item_2022 = pd.read_csv('./dataset/정상상품.csv')\n",
    "weird_item_2022 = pd.read_csv('./dataset/이상상품.csv')\n",
    "normal_member = pd.read_csv('./dataset/정상회원데이터.csv')\n",
    "weird_member = pd.read_csv('./dataset/이상회원데이터.csv')\n",
    "inquir = pd.read_csv('./dataset/인콰이어리데이터.csv')"
   ]
  },
  {
   "cell_type": "code",
   "execution_count": 8,
   "metadata": {},
   "outputs": [],
   "source": [
    "import sklearn"
   ]
  },
  {
   "cell_type": "markdown",
   "metadata": {},
   "source": [
    "## 불필요컬럼 제거"
   ]
  },
  {
   "cell_type": "code",
   "execution_count": 18,
   "metadata": {},
   "outputs": [
    {
     "data": {
      "text/plain": [
       "SHOW_CHK\n",
       "1    94243\n",
       "0    67655\n",
       "2    28118\n",
       "3    22577\n",
       "Name: count, dtype: int64"
      ]
     },
     "execution_count": 18,
     "metadata": {},
     "output_type": "execute_result"
    }
   ],
   "source": [
    "normal_item_2022['SHOW_CHK'].value_counts()\n",
    "weird_item_2022['SHOW_CHK'].value_counts()"
   ]
  },
  {
   "cell_type": "code",
   "execution_count": 24,
   "metadata": {},
   "outputs": [
    {
     "data": {
      "text/plain": [
       "SHOW_CHK\n",
       "0    538722\n",
       "Name: count, dtype: int64"
      ]
     },
     "execution_count": 24,
     "metadata": {},
     "output_type": "execute_result"
    }
   ],
   "source": [
    "normal_item_2022['SHOW_CHK'].value_counts()"
   ]
  },
  {
   "cell_type": "code",
   "execution_count": 17,
   "metadata": {},
   "outputs": [
    {
     "data": {
      "text/html": [
       "<div>\n",
       "<style scoped>\n",
       "    .dataframe tbody tr th:only-of-type {\n",
       "        vertical-align: middle;\n",
       "    }\n",
       "\n",
       "    .dataframe tbody tr th {\n",
       "        vertical-align: top;\n",
       "    }\n",
       "\n",
       "    .dataframe thead th {\n",
       "        text-align: right;\n",
       "    }\n",
       "</style>\n",
       "<table border=\"1\" class=\"dataframe\">\n",
       "  <thead>\n",
       "    <tr style=\"text-align: right;\">\n",
       "      <th></th>\n",
       "      <th>MEMBER_ID</th>\n",
       "      <th>GCATALOG_ID</th>\n",
       "      <th>CATALOG_ID</th>\n",
       "      <th>CATALOG_NM</th>\n",
       "      <th>CATEGORYM_ID</th>\n",
       "      <th>KEYWORD</th>\n",
       "      <th>DISPLAY</th>\n",
       "      <th>CATALOG_DESC</th>\n",
       "      <th>INPUT_DT</th>\n",
       "      <th>UPDATE_DT</th>\n",
       "      <th>REMOTEIP</th>\n",
       "      <th>SHOW_CHK</th>\n",
       "    </tr>\n",
       "  </thead>\n",
       "  <tbody>\n",
       "    <tr>\n",
       "      <th>0</th>\n",
       "      <td>shangyuanshibang</td>\n",
       "      <td>GC11736713</td>\n",
       "      <td>CA11736718</td>\n",
       "      <td>1-BOC-4-(4-BROMO-PHENYLAMINO)-PIPERIDINECas 44...</td>\n",
       "      <td>212815</td>\n",
       "      <td>1-BOC-4- 4-BROMO-PHENYLAM</td>\n",
       "      <td>0</td>\n",
       "      <td>&lt;div class=\"c_lis_topt1\" id=\"m1\" style=\"paddin...</td>\n",
       "      <td>20230228100427</td>\n",
       "      <td>20230228100427</td>\n",
       "      <td>219.78.227.175</td>\n",
       "      <td>2</td>\n",
       "    </tr>\n",
       "    <tr>\n",
       "      <th>1</th>\n",
       "      <td>shangyuanshibang</td>\n",
       "      <td>GC11736706</td>\n",
       "      <td>CA11736712</td>\n",
       "      <td>High Purity N- (Tert-Butoxycarbonyl) -4-Piperi...</td>\n",
       "      <td>212815</td>\n",
       "      <td>N- tert-Butoxycarbonyl -4</td>\n",
       "      <td>0</td>\n",
       "      <td>&lt;div class=\"c_lis_topt1\" id=\"m1\" style=\"paddin...</td>\n",
       "      <td>20230228094237</td>\n",
       "      <td>20230228094237</td>\n",
       "      <td>42.3.79.92</td>\n",
       "      <td>2</td>\n",
       "    </tr>\n",
       "    <tr>\n",
       "      <th>2</th>\n",
       "      <td>shangyuanshibang</td>\n",
       "      <td>GC11736708</td>\n",
       "      <td>CA11736711</td>\n",
       "      <td>1,1-dimethylethyl Ester CAS 288573-56-8</td>\n",
       "      <td>212815</td>\n",
       "      <td>1-BOC-4- 4-FLUORO-PHENYLA</td>\n",
       "      <td>0</td>\n",
       "      <td>&lt;div class=\"c_lis_topt1\" id=\"m1\" style=\"paddin...</td>\n",
       "      <td>20230228093820</td>\n",
       "      <td>20230228093820</td>\n",
       "      <td>42.3.79.92</td>\n",
       "      <td>2</td>\n",
       "    </tr>\n",
       "    <tr>\n",
       "      <th>3</th>\n",
       "      <td>shangyuanshibang</td>\n",
       "      <td>GC11736704</td>\n",
       "      <td>CA11736705</td>\n",
       "      <td>White Crystal N-Isopropylbenzylamine CAS 102-9...</td>\n",
       "      <td>212815</td>\n",
       "      <td>N-Isopropylbenzylamine</td>\n",
       "      <td>0</td>\n",
       "      <td>&lt;div class=\"c_lis_topt1\" id=\"m1\" style=\"paddin...</td>\n",
       "      <td>20230228091028</td>\n",
       "      <td>20230228091028</td>\n",
       "      <td>42.3.79.92</td>\n",
       "      <td>2</td>\n",
       "    </tr>\n",
       "    <tr>\n",
       "      <th>4</th>\n",
       "      <td>5527</td>\n",
       "      <td>GC11736699</td>\n",
       "      <td>CA11736700</td>\n",
       "      <td>Soybean GMO &amp; NON-GMO</td>\n",
       "      <td>11607</td>\n",
       "      <td>Soybean soybean gmo</td>\n",
       "      <td>0</td>\n",
       "      <td>&lt;ol&gt;&lt;li class=\"six-page-style-el\"&gt;Soja GMO &amp;am...</td>\n",
       "      <td>20230228075935</td>\n",
       "      <td>20230228075935</td>\n",
       "      <td>131.196.216.214</td>\n",
       "      <td>2</td>\n",
       "    </tr>\n",
       "  </tbody>\n",
       "</table>\n",
       "</div>"
      ],
      "text/plain": [
       "          MEMBER_ID GCATALOG_ID  CATALOG_ID  \\\n",
       "0  shangyuanshibang  GC11736713  CA11736718   \n",
       "1  shangyuanshibang  GC11736706  CA11736712   \n",
       "2  shangyuanshibang  GC11736708  CA11736711   \n",
       "3  shangyuanshibang  GC11736704  CA11736705   \n",
       "4              5527  GC11736699  CA11736700   \n",
       "\n",
       "                                          CATALOG_NM  CATEGORYM_ID  \\\n",
       "0  1-BOC-4-(4-BROMO-PHENYLAMINO)-PIPERIDINECas 44...        212815   \n",
       "1  High Purity N- (Tert-Butoxycarbonyl) -4-Piperi...        212815   \n",
       "2            1,1-dimethylethyl Ester CAS 288573-56-8        212815   \n",
       "3  White Crystal N-Isopropylbenzylamine CAS 102-9...        212815   \n",
       "4                              Soybean GMO & NON-GMO         11607   \n",
       "\n",
       "                     KEYWORD  DISPLAY  \\\n",
       "0  1-BOC-4- 4-BROMO-PHENYLAM        0   \n",
       "1  N- tert-Butoxycarbonyl -4        0   \n",
       "2  1-BOC-4- 4-FLUORO-PHENYLA        0   \n",
       "3     N-Isopropylbenzylamine        0   \n",
       "4        Soybean soybean gmo        0   \n",
       "\n",
       "                                        CATALOG_DESC        INPUT_DT  \\\n",
       "0  <div class=\"c_lis_topt1\" id=\"m1\" style=\"paddin...  20230228100427   \n",
       "1  <div class=\"c_lis_topt1\" id=\"m1\" style=\"paddin...  20230228094237   \n",
       "2  <div class=\"c_lis_topt1\" id=\"m1\" style=\"paddin...  20230228093820   \n",
       "3  <div class=\"c_lis_topt1\" id=\"m1\" style=\"paddin...  20230228091028   \n",
       "4  <ol><li class=\"six-page-style-el\">Soja GMO &am...  20230228075935   \n",
       "\n",
       "        UPDATE_DT         REMOTEIP  SHOW_CHK  \n",
       "0  20230228100427   219.78.227.175         2  \n",
       "1  20230228094237       42.3.79.92         2  \n",
       "2  20230228093820       42.3.79.92         2  \n",
       "3  20230228091028       42.3.79.92         2  \n",
       "4  20230228075935  131.196.216.214         2  "
      ]
     },
     "execution_count": 17,
     "metadata": {},
     "output_type": "execute_result"
    }
   ],
   "source": [
    "weird_item_2022.head()"
   ]
  },
  {
   "cell_type": "markdown",
   "metadata": {},
   "source": [
    "## DISPLAY 컬럼 Y=0 , N=1로 치환\n",
    "## SHOW_CHK 컬럼 S=0, P=1, R=2, B=3 치환"
   ]
  },
  {
   "cell_type": "code",
   "execution_count": 12,
   "metadata": {},
   "outputs": [],
   "source": [
    "normal_item_2022['DISPLAY'] = normal_item_2022['DISPLAY'].replace({'Y': 0, 'N': 1})\n",
    "weird_item_2022['DISPLAY'] = weird_item_2022['DISPLAY'].replace({'Y': 0, 'N': 1})"
   ]
  },
  {
   "cell_type": "code",
   "execution_count": 23,
   "metadata": {},
   "outputs": [],
   "source": [
    "weird_item_2022['SHOW_CHK'] = weird_item_2022['SHOW_CHK'].replace({'S': 0, 'P': 1, 'R': 2, 'B': 3})\n",
    "normal_item_2022['SHOW_CHK'] = normal_item_2022['SHOW_CHK'].replace({'A': 0})"
   ]
  },
  {
   "cell_type": "code",
   "execution_count": 26,
   "metadata": {},
   "outputs": [],
   "source": [
    "columns_to_keep = ['CATALOG_NM', 'KEYWORD', 'DISPLAY', 'CATALOG_DESC', 'INPUT_DT', 'UPDATE_DT', 'REMOTEIP', 'SHOW_CHK']\n",
    "normal_item_2022 = normal_item_2022.loc[:, columns_to_keep]"
   ]
  },
  {
   "cell_type": "code",
   "execution_count": 27,
   "metadata": {},
   "outputs": [],
   "source": [
    "columns_to_keep = ['CATALOG_NM', 'KEYWORD', 'DISPLAY', 'INPUT_DT', 'UPDATE_DT', 'REMOTEIP', 'SHOW_CHK']\n",
    "normal_item_2022 = normal_item_2022.loc[:, columns_to_keep]"
   ]
  },
  {
   "cell_type": "code",
   "execution_count": 28,
   "metadata": {},
   "outputs": [
    {
     "data": {
      "text/plain": [
       "Index(['CATALOG_NM', 'KEYWORD', 'DISPLAY', 'INPUT_DT', 'UPDATE_DT', 'REMOTEIP',\n",
       "       'SHOW_CHK'],\n",
       "      dtype='object')"
      ]
     },
     "execution_count": 28,
     "metadata": {},
     "output_type": "execute_result"
    }
   ],
   "source": [
    "normal_item_2022.columns"
   ]
  },
  {
   "cell_type": "code",
   "execution_count": 29,
   "metadata": {},
   "outputs": [],
   "source": [
    "columns_to_keep = ['CATALOG_NM', 'KEYWORD', 'DISPLAY', 'INPUT_DT', 'UPDATE_DT', 'REMOTEIP', 'SHOW_CHK']\n",
    "weird_item_2022 = weird_item_2022.loc[:, columns_to_keep]"
   ]
  },
  {
   "cell_type": "markdown",
   "metadata": {},
   "source": [
    "## 이상상품 판단 컬럼 추가"
   ]
  },
  {
   "cell_type": "code",
   "execution_count": 30,
   "metadata": {},
   "outputs": [],
   "source": [
    "normal_item_2022['judge'] = 1\n",
    "weird_item_2022['judge'] = 0"
   ]
  },
  {
   "cell_type": "code",
   "execution_count": 43,
   "metadata": {},
   "outputs": [
    {
     "data": {
      "text/plain": [
       "DISPLAY\n",
       "0    189591\n",
       "1     23002\n",
       "Name: count, dtype: int64"
      ]
     },
     "execution_count": 43,
     "metadata": {},
     "output_type": "execute_result"
    }
   ],
   "source": [
    "weird_item_2022['DISPLAY'].value_counts()"
   ]
  },
  {
   "cell_type": "code",
   "execution_count": 44,
   "metadata": {},
   "outputs": [
    {
     "data": {
      "text/plain": [
       "DISPLAY\n",
       "     470030\n",
       "n     68692\n",
       "Name: count, dtype: int64"
      ]
     },
     "execution_count": 44,
     "metadata": {},
     "output_type": "execute_result"
    }
   ],
   "source": [
    "normal_item_2022['DISPLAY'].value_counts()"
   ]
  },
  {
   "cell_type": "code",
   "execution_count": 31,
   "metadata": {},
   "outputs": [],
   "source": [
    "import nltk"
   ]
  },
  {
   "cell_type": "code",
   "execution_count": 32,
   "metadata": {},
   "outputs": [
    {
     "name": "stderr",
     "output_type": "stream",
     "text": [
      "[nltk_data] Downloading package stopwords to\n",
      "[nltk_data]     C:\\Users\\ujn9\\AppData\\Roaming\\nltk_data...\n",
      "[nltk_data]   Package stopwords is already up-to-date!\n"
     ]
    },
    {
     "data": {
      "text/plain": [
       "True"
      ]
     },
     "execution_count": 32,
     "metadata": {},
     "output_type": "execute_result"
    }
   ],
   "source": [
    "nltk.download('stopwords')"
   ]
  },
  {
   "cell_type": "code",
   "execution_count": 33,
   "metadata": {},
   "outputs": [],
   "source": [
    "from nltk.corpus import stopwords\n",
    "from nltk.stem import PorterStemmer, WordNetLemmatizer\n",
    "import string"
   ]
  },
  {
   "cell_type": "markdown",
   "metadata": {},
   "source": [
    "## 데이터 클렌징"
   ]
  },
  {
   "cell_type": "markdown",
   "metadata": {},
   "source": [
    "### 소문자 변경, Stopwords 제거, 어근추출"
   ]
  },
  {
   "cell_type": "code",
   "execution_count": 34,
   "metadata": {},
   "outputs": [
    {
     "data": {
      "text/html": [
       "<div>\n",
       "<style scoped>\n",
       "    .dataframe tbody tr th:only-of-type {\n",
       "        vertical-align: middle;\n",
       "    }\n",
       "\n",
       "    .dataframe tbody tr th {\n",
       "        vertical-align: top;\n",
       "    }\n",
       "\n",
       "    .dataframe thead th {\n",
       "        text-align: right;\n",
       "    }\n",
       "</style>\n",
       "<table border=\"1\" class=\"dataframe\">\n",
       "  <thead>\n",
       "    <tr style=\"text-align: right;\">\n",
       "      <th></th>\n",
       "      <th>CATALOG_NM</th>\n",
       "      <th>KEYWORD</th>\n",
       "      <th>DISPLAY</th>\n",
       "      <th>INPUT_DT</th>\n",
       "      <th>UPDATE_DT</th>\n",
       "      <th>REMOTEIP</th>\n",
       "      <th>SHOW_CHK</th>\n",
       "      <th>judge</th>\n",
       "    </tr>\n",
       "  </thead>\n",
       "  <tbody>\n",
       "    <tr>\n",
       "      <th>0</th>\n",
       "      <td>new season 2023 black tea ctc milk tea fulmex ...</td>\n",
       "      <td>milk teactc black teafulmex tea</td>\n",
       "      <td></td>\n",
       "      <td>20230228005732</td>\n",
       "      <td>20230228005732</td>\n",
       "      <td>14.177.113.144</td>\n",
       "      <td>0</td>\n",
       "      <td>1</td>\n",
       "    </tr>\n",
       "    <tr>\n",
       "      <th>1</th>\n",
       "      <td>cow mat</td>\n",
       "      <td>rubber matcow matrubb floor matpashu chataidai...</td>\n",
       "      <td></td>\n",
       "      <td>20230227231604</td>\n",
       "      <td>20230227231604</td>\n",
       "      <td>49.34.172.73</td>\n",
       "      <td>0</td>\n",
       "      <td>1</td>\n",
       "    </tr>\n",
       "    <tr>\n",
       "      <th>2</th>\n",
       "      <td>5 1 multifunct 4d hifu ultra lift needl rf vma...</td>\n",
       "      <td>4d hifu ultra lift5 1 hifu4d hifu lift4d needl...</td>\n",
       "      <td></td>\n",
       "      <td>20230227224740</td>\n",
       "      <td>20230227224740</td>\n",
       "      <td>159.138.61.247</td>\n",
       "      <td>0</td>\n",
       "      <td>1</td>\n",
       "    </tr>\n",
       "    <tr>\n",
       "      <th>3</th>\n",
       "      <td>6mm 612 electr dc mini vibrat motor vr massag ...</td>\n",
       "      <td>vibrat motordc motorcoreless motormini motorsm...</td>\n",
       "      <td></td>\n",
       "      <td>20230227223506</td>\n",
       "      <td>20230227223506</td>\n",
       "      <td>103.167.134.61</td>\n",
       "      <td>0</td>\n",
       "      <td>1</td>\n",
       "    </tr>\n",
       "    <tr>\n",
       "      <th>4</th>\n",
       "      <td>pe foam sheet extrud epe foam sheet extrud foa...</td>\n",
       "      <td>pe foam sheet extruderp foam extrusionep foam ...</td>\n",
       "      <td></td>\n",
       "      <td>20230227214151</td>\n",
       "      <td>20230227214151</td>\n",
       "      <td>118.41.162.204</td>\n",
       "      <td>0</td>\n",
       "      <td>1</td>\n",
       "    </tr>\n",
       "  </tbody>\n",
       "</table>\n",
       "</div>"
      ],
      "text/plain": [
       "                                          CATALOG_NM  \\\n",
       "0  new season 2023 black tea ctc milk tea fulmex ...   \n",
       "1                                            cow mat   \n",
       "2  5 1 multifunct 4d hifu ultra lift needl rf vma...   \n",
       "3  6mm 612 electr dc mini vibrat motor vr massag ...   \n",
       "4  pe foam sheet extrud epe foam sheet extrud foa...   \n",
       "\n",
       "                                             KEYWORD DISPLAY        INPUT_DT  \\\n",
       "0                    milk teactc black teafulmex tea          20230228005732   \n",
       "1  rubber matcow matrubb floor matpashu chataidai...          20230227231604   \n",
       "2  4d hifu ultra lift5 1 hifu4d hifu lift4d needl...          20230227224740   \n",
       "3  vibrat motordc motorcoreless motormini motorsm...          20230227223506   \n",
       "4  pe foam sheet extruderp foam extrusionep foam ...          20230227214151   \n",
       "\n",
       "        UPDATE_DT        REMOTEIP  SHOW_CHK  judge  \n",
       "0  20230228005732  14.177.113.144         0      1  \n",
       "1  20230227231604    49.34.172.73         0      1  \n",
       "2  20230227224740  159.138.61.247         0      1  \n",
       "3  20230227223506  103.167.134.61         0      1  \n",
       "4  20230227214151  118.41.162.204         0      1  "
      ]
     },
     "execution_count": 34,
     "metadata": {},
     "output_type": "execute_result"
    }
   ],
   "source": [
    "def preprocess_text(text):\n",
    "    if isinstance(text, str):  # Check if the value is a string\n",
    "        # Convert to lowercase\n",
    "        text = text.lower()\n",
    "\n",
    "        # Remove special characters\n",
    "        text = ''.join([char for char in text if char not in string.punctuation])\n",
    "\n",
    "    return text\n",
    "\n",
    "def remove_stopwords(text):\n",
    "    if isinstance(text, str):  # Check if the value is a string\n",
    "        stop_words = set(stopwords.words('english'))\n",
    "        words = text.split()\n",
    "        filtered_words = [word for word in words if word.lower() not in stop_words]\n",
    "        return ' '.join(filtered_words)\n",
    "    return text\n",
    "\n",
    "def apply_stemming(text):\n",
    "    if isinstance(text, str):  # Check if the value is a string\n",
    "        stemmer = PorterStemmer()\n",
    "        words = text.split()\n",
    "        stemmed_words = [stemmer.stem(word) for word in words]\n",
    "        return ' '.join(stemmed_words)\n",
    "    return text\n",
    "\n",
    "# Apply text processing to specified columns\n",
    "columns_to_process = ['DISPLAY', 'SHOW_CHK','CATALOG_NM', 'KEYWORD']\n",
    "for column in columns_to_process:\n",
    "    normal_item_2022[column] = normal_item_2022[column].apply(preprocess_text)\n",
    "    normal_item_2022[column] = normal_item_2022[column].apply(remove_stopwords)\n",
    "    normal_item_2022[column] = normal_item_2022[column].apply(apply_stemming)\n",
    "    weird_item_2022[column] = weird_item_2022[column].apply(preprocess_text)\n",
    "    weird_item_2022[column] = weird_item_2022[column].apply(remove_stopwords)\n",
    "    weird_item_2022[column] = weird_item_2022[column].apply(apply_stemming)  # or apply_lemmatization if you prefer\n",
    "\n",
    "# Displaying the updated DataFrame\n",
    "normal_item_2022.head()"
   ]
  },
  {
   "cell_type": "code",
   "execution_count": 45,
   "metadata": {},
   "outputs": [
    {
     "data": {
      "text/plain": [
       "SHOW_CHK\n",
       "0    606377\n",
       "1     94243\n",
       "2     28118\n",
       "3     22577\n",
       "Name: count, dtype: int64"
      ]
     },
     "execution_count": 45,
     "metadata": {},
     "output_type": "execute_result"
    }
   ],
   "source": [
    "merged_df['SHOW_CHK'].value_counts()"
   ]
  },
  {
   "cell_type": "code",
   "execution_count": 46,
   "metadata": {},
   "outputs": [
    {
     "data": {
      "text/plain": [
       "DISPLAY\n",
       "     470030\n",
       "0    189591\n",
       "n     68692\n",
       "1     23002\n",
       "Name: count, dtype: int64"
      ]
     },
     "execution_count": 46,
     "metadata": {},
     "output_type": "execute_result"
    }
   ],
   "source": [
    "merged_df['DISPLAY'].value_counts()"
   ]
  },
  {
   "cell_type": "code",
   "execution_count": 51,
   "metadata": {},
   "outputs": [],
   "source": [
    "merged_df.drop(columns=['DISPLAY'], inplace=True)"
   ]
  },
  {
   "cell_type": "markdown",
   "metadata": {},
   "source": [
    "## 이상상품, 정상상품 CONCAT"
   ]
  },
  {
   "cell_type": "code",
   "execution_count": 49,
   "metadata": {},
   "outputs": [
    {
     "data": {
      "text/plain": [
       "judge\n",
       "1    538722\n",
       "0    212593\n",
       "Name: count, dtype: int64"
      ]
     },
     "execution_count": 49,
     "metadata": {},
     "output_type": "execute_result"
    }
   ],
   "source": [
    "merged_df = pd.concat([normal_item_2022, weird_item_2022], ignore_index=True)\n",
    "\n",
    "# Display the merged DataFrame\n",
    "merged_df['judge'].value_counts()"
   ]
  },
  {
   "cell_type": "code",
   "execution_count": 53,
   "metadata": {},
   "outputs": [
    {
     "ename": "KeyError",
     "evalue": "'DISPLAY'",
     "output_type": "error",
     "traceback": [
      "\u001b[1;31m---------------------------------------------------------------------------\u001b[0m",
      "\u001b[1;31mKeyError\u001b[0m                                  Traceback (most recent call last)",
      "File \u001b[1;32m~\\AppData\\Local\\Packages\\PythonSoftwareFoundation.Python.3.11_qbz5n2kfra8p0\\LocalCache\\local-packages\\Python311\\site-packages\\pandas\\core\\indexes\\base.py:3791\u001b[0m, in \u001b[0;36mIndex.get_loc\u001b[1;34m(self, key)\u001b[0m\n\u001b[0;32m   3790\u001b[0m \u001b[38;5;28;01mtry\u001b[39;00m:\n\u001b[1;32m-> 3791\u001b[0m     \u001b[38;5;28;01mreturn\u001b[39;00m \u001b[38;5;28;43mself\u001b[39;49m\u001b[38;5;241;43m.\u001b[39;49m\u001b[43m_engine\u001b[49m\u001b[38;5;241;43m.\u001b[39;49m\u001b[43mget_loc\u001b[49m\u001b[43m(\u001b[49m\u001b[43mcasted_key\u001b[49m\u001b[43m)\u001b[49m\n\u001b[0;32m   3792\u001b[0m \u001b[38;5;28;01mexcept\u001b[39;00m \u001b[38;5;167;01mKeyError\u001b[39;00m \u001b[38;5;28;01mas\u001b[39;00m err:\n",
      "File \u001b[1;32mindex.pyx:152\u001b[0m, in \u001b[0;36mpandas._libs.index.IndexEngine.get_loc\u001b[1;34m()\u001b[0m\n",
      "File \u001b[1;32mindex.pyx:181\u001b[0m, in \u001b[0;36mpandas._libs.index.IndexEngine.get_loc\u001b[1;34m()\u001b[0m\n",
      "File \u001b[1;32mpandas\\_libs\\hashtable_class_helper.pxi:7080\u001b[0m, in \u001b[0;36mpandas._libs.hashtable.PyObjectHashTable.get_item\u001b[1;34m()\u001b[0m\n",
      "File \u001b[1;32mpandas\\_libs\\hashtable_class_helper.pxi:7088\u001b[0m, in \u001b[0;36mpandas._libs.hashtable.PyObjectHashTable.get_item\u001b[1;34m()\u001b[0m\n",
      "\u001b[1;31mKeyError\u001b[0m: 'DISPLAY'",
      "\nThe above exception was the direct cause of the following exception:\n",
      "\u001b[1;31mKeyError\u001b[0m                                  Traceback (most recent call last)",
      "Cell \u001b[1;32mIn[53], line 1\u001b[0m\n\u001b[1;32m----> 1\u001b[0m \u001b[43mmerged_df\u001b[49m\u001b[43m[\u001b[49m\u001b[38;5;124;43m'\u001b[39;49m\u001b[38;5;124;43mDISPLAY\u001b[39;49m\u001b[38;5;124;43m'\u001b[39;49m\u001b[43m]\u001b[49m\u001b[38;5;241m.\u001b[39mvalue_counts()\n",
      "File \u001b[1;32m~\\AppData\\Local\\Packages\\PythonSoftwareFoundation.Python.3.11_qbz5n2kfra8p0\\LocalCache\\local-packages\\Python311\\site-packages\\pandas\\core\\frame.py:3893\u001b[0m, in \u001b[0;36mDataFrame.__getitem__\u001b[1;34m(self, key)\u001b[0m\n\u001b[0;32m   3891\u001b[0m \u001b[38;5;28;01mif\u001b[39;00m \u001b[38;5;28mself\u001b[39m\u001b[38;5;241m.\u001b[39mcolumns\u001b[38;5;241m.\u001b[39mnlevels \u001b[38;5;241m>\u001b[39m \u001b[38;5;241m1\u001b[39m:\n\u001b[0;32m   3892\u001b[0m     \u001b[38;5;28;01mreturn\u001b[39;00m \u001b[38;5;28mself\u001b[39m\u001b[38;5;241m.\u001b[39m_getitem_multilevel(key)\n\u001b[1;32m-> 3893\u001b[0m indexer \u001b[38;5;241m=\u001b[39m \u001b[38;5;28;43mself\u001b[39;49m\u001b[38;5;241;43m.\u001b[39;49m\u001b[43mcolumns\u001b[49m\u001b[38;5;241;43m.\u001b[39;49m\u001b[43mget_loc\u001b[49m\u001b[43m(\u001b[49m\u001b[43mkey\u001b[49m\u001b[43m)\u001b[49m\n\u001b[0;32m   3894\u001b[0m \u001b[38;5;28;01mif\u001b[39;00m is_integer(indexer):\n\u001b[0;32m   3895\u001b[0m     indexer \u001b[38;5;241m=\u001b[39m [indexer]\n",
      "File \u001b[1;32m~\\AppData\\Local\\Packages\\PythonSoftwareFoundation.Python.3.11_qbz5n2kfra8p0\\LocalCache\\local-packages\\Python311\\site-packages\\pandas\\core\\indexes\\base.py:3798\u001b[0m, in \u001b[0;36mIndex.get_loc\u001b[1;34m(self, key)\u001b[0m\n\u001b[0;32m   3793\u001b[0m     \u001b[38;5;28;01mif\u001b[39;00m \u001b[38;5;28misinstance\u001b[39m(casted_key, \u001b[38;5;28mslice\u001b[39m) \u001b[38;5;129;01mor\u001b[39;00m (\n\u001b[0;32m   3794\u001b[0m         \u001b[38;5;28misinstance\u001b[39m(casted_key, abc\u001b[38;5;241m.\u001b[39mIterable)\n\u001b[0;32m   3795\u001b[0m         \u001b[38;5;129;01mand\u001b[39;00m \u001b[38;5;28many\u001b[39m(\u001b[38;5;28misinstance\u001b[39m(x, \u001b[38;5;28mslice\u001b[39m) \u001b[38;5;28;01mfor\u001b[39;00m x \u001b[38;5;129;01min\u001b[39;00m casted_key)\n\u001b[0;32m   3796\u001b[0m     ):\n\u001b[0;32m   3797\u001b[0m         \u001b[38;5;28;01mraise\u001b[39;00m InvalidIndexError(key)\n\u001b[1;32m-> 3798\u001b[0m     \u001b[38;5;28;01mraise\u001b[39;00m \u001b[38;5;167;01mKeyError\u001b[39;00m(key) \u001b[38;5;28;01mfrom\u001b[39;00m \u001b[38;5;21;01merr\u001b[39;00m\n\u001b[0;32m   3799\u001b[0m \u001b[38;5;28;01mexcept\u001b[39;00m \u001b[38;5;167;01mTypeError\u001b[39;00m:\n\u001b[0;32m   3800\u001b[0m     \u001b[38;5;66;03m# If we have a listlike key, _check_indexing_error will raise\u001b[39;00m\n\u001b[0;32m   3801\u001b[0m     \u001b[38;5;66;03m#  InvalidIndexError. Otherwise we fall through and re-raise\u001b[39;00m\n\u001b[0;32m   3802\u001b[0m     \u001b[38;5;66;03m#  the TypeError.\u001b[39;00m\n\u001b[0;32m   3803\u001b[0m     \u001b[38;5;28mself\u001b[39m\u001b[38;5;241m.\u001b[39m_check_indexing_error(key)\n",
      "\u001b[1;31mKeyError\u001b[0m: 'DISPLAY'"
     ]
    }
   ],
   "source": [
    "merged_df['DISPLAY'].value_counts()"
   ]
  },
  {
   "cell_type": "code",
   "execution_count": 52,
   "metadata": {},
   "outputs": [
    {
     "data": {
      "text/plain": [
       "Index(['CATALOG_NM', 'KEYWORD', 'INPUT_DT', 'UPDATE_DT', 'REMOTEIP',\n",
       "       'SHOW_CHK', 'judge'],\n",
       "      dtype='object')"
      ]
     },
     "execution_count": 52,
     "metadata": {},
     "output_type": "execute_result"
    }
   ],
   "source": [
    "merged_df.columns"
   ]
  },
  {
   "cell_type": "markdown",
   "metadata": {},
   "source": [
    "## REMOTEIP 컬럼 클렌징 및 국가코드 컬럼추가"
   ]
  },
  {
   "cell_type": "code",
   "execution_count": 57,
   "metadata": {},
   "outputs": [
    {
     "name": "stdout",
     "output_type": "stream",
     "text": [
      "Error for IP 35.214.59.141: ASN lookup failed with no more methods to try.\n",
      "Error for IP 173.245.203.231: Parsing failed for \"\" with exception: list index out of range.\n",
      "Error for IP 89.187.162.107: ASN lookup failed with no more methods to try.\n",
      "Error for IP 23.154.81.87: ASN lookup failed with no more methods to try.\n"
     ]
    }
   ],
   "source": [
    "from ipwhois import IPWhois\n",
    "\n",
    "# Assuming 'merged_df' is your DataFrame\n",
    "# If you have not created the DataFrame yet, make sure to do that before running this code\n",
    "\n",
    "# Function to get country code from IP address\n",
    "def get_country_code(ip):\n",
    "    try:\n",
    "        obj = IPWhois(ip)\n",
    "        results = obj.lookup_rdap()\n",
    "        return results['asn_country_code']\n",
    "    except Exception as e:\n",
    "        print(f\"Error for IP {ip}: {e}\")\n",
    "        return None\n",
    "\n",
    "# Create a new column without periods\n",
    "merged_df['REMOTEIP_no_period'] = merged_df['REMOTEIP'].str.replace('.', '')\n",
    "\n",
    "# Apply the function to get country codes\n",
    "merged_df['COUNTRY_CODE'] = merged_df['REMOTEIP'].apply(get_country_code)\n",
    "\n",
    "# Display the updated DataFrame\n",
    "print(merged_df)"
   ]
  },
  {
   "cell_type": "markdown",
   "metadata": {},
   "source": [
    "##  NA값 채우기"
   ]
  },
  {
   "cell_type": "code",
   "execution_count": null,
   "metadata": {},
   "outputs": [],
   "source": [
    "from datetime import datetime, timedelta\n",
    "\n",
    "# Assuming 'merged_df' is your DataFrame\n",
    "# If you have not created the DataFrame yet, make sure to do that before running this code\n",
    "\n",
    "# Check missing values in all columns\n",
    "missing_values = merged_df.isnull().sum()\n",
    "print(\"Missing Values in Each Column:\")\n",
    "print(missing_values)\n",
    "\n",
    "# Fill missing values in 'CATALOG_NM' and 'KEYWORD' columns with 0\n",
    "merged_df[['CATALOG_NM', 'KEYWORD']] = merged_df[['CATALOG_NM', 'KEYWORD']].fillna('0')\n",
    "\n",
    "# Fill missing values in 'INPUT_DT' and 'UPDATE_DT' columns with dates 10 days apart\n",
    "# if either of the two columns has a missing value\n",
    "for index, row in merged_df.iterrows():\n",
    "    if pd.isnull(row['INPUT_DT']):\n",
    "        row['INPUT_DT'] = datetime.now() - timedelta(days=10)\n",
    "    elif pd.isnull(row['UPDATE_DT']):\n",
    "        row['UPDATE_DT'] = datetime.now() + timedelta(days=10)\n",
    "\n",
    "# Fill missing values in other columns with 0\n",
    "merged_df.fillna(0, inplace=True)\n",
    "\n",
    "# Display the updated DataFrame\n",
    "print(\"\\nUpdated DataFrame:\")\n",
    "print(merged_df)"
   ]
  },
  {
   "cell_type": "markdown",
   "metadata": {},
   "source": [
    "## 카탈로그, 키워드 열 카운트벡터"
   ]
  },
  {
   "cell_type": "code",
   "execution_count": 24,
   "metadata": {},
   "outputs": [],
   "source": [
    "from sklearn.feature_extraction.text import CountVectorizer"
   ]
  },
  {
   "cell_type": "code",
   "execution_count": 54,
   "metadata": {},
   "outputs": [
    {
     "data": {
      "text/html": [
       "<div>\n",
       "<style scoped>\n",
       "    .dataframe tbody tr th:only-of-type {\n",
       "        vertical-align: middle;\n",
       "    }\n",
       "\n",
       "    .dataframe tbody tr th {\n",
       "        vertical-align: top;\n",
       "    }\n",
       "\n",
       "    .dataframe thead th {\n",
       "        text-align: right;\n",
       "    }\n",
       "</style>\n",
       "<table border=\"1\" class=\"dataframe\">\n",
       "  <thead>\n",
       "    <tr style=\"text-align: right;\">\n",
       "      <th></th>\n",
       "      <th>CATALOG_NM</th>\n",
       "      <th>KEYWORD</th>\n",
       "      <th>INPUT_DT</th>\n",
       "      <th>UPDATE_DT</th>\n",
       "      <th>REMOTEIP</th>\n",
       "      <th>SHOW_CHK</th>\n",
       "      <th>judge</th>\n",
       "    </tr>\n",
       "  </thead>\n",
       "  <tbody>\n",
       "    <tr>\n",
       "      <th>0</th>\n",
       "      <td>new season 2023 black tea ctc milk tea fulmex ...</td>\n",
       "      <td>milk teactc black teafulmex tea</td>\n",
       "      <td>20230228005732</td>\n",
       "      <td>20230228005732</td>\n",
       "      <td>14.177.113.144</td>\n",
       "      <td>0</td>\n",
       "      <td>1</td>\n",
       "    </tr>\n",
       "    <tr>\n",
       "      <th>1</th>\n",
       "      <td>cow mat</td>\n",
       "      <td>rubber matcow matrubb floor matpashu chataidai...</td>\n",
       "      <td>20230227231604</td>\n",
       "      <td>20230227231604</td>\n",
       "      <td>49.34.172.73</td>\n",
       "      <td>0</td>\n",
       "      <td>1</td>\n",
       "    </tr>\n",
       "    <tr>\n",
       "      <th>2</th>\n",
       "      <td>5 1 multifunct 4d hifu ultra lift needl rf vma...</td>\n",
       "      <td>4d hifu ultra lift5 1 hifu4d hifu lift4d needl...</td>\n",
       "      <td>20230227224740</td>\n",
       "      <td>20230227224740</td>\n",
       "      <td>159.138.61.247</td>\n",
       "      <td>0</td>\n",
       "      <td>1</td>\n",
       "    </tr>\n",
       "    <tr>\n",
       "      <th>3</th>\n",
       "      <td>6mm 612 electr dc mini vibrat motor vr massag ...</td>\n",
       "      <td>vibrat motordc motorcoreless motormini motorsm...</td>\n",
       "      <td>20230227223506</td>\n",
       "      <td>20230227223506</td>\n",
       "      <td>103.167.134.61</td>\n",
       "      <td>0</td>\n",
       "      <td>1</td>\n",
       "    </tr>\n",
       "    <tr>\n",
       "      <th>4</th>\n",
       "      <td>pe foam sheet extrud epe foam sheet extrud foa...</td>\n",
       "      <td>pe foam sheet extruderp foam extrusionep foam ...</td>\n",
       "      <td>20230227214151</td>\n",
       "      <td>20230227214151</td>\n",
       "      <td>118.41.162.204</td>\n",
       "      <td>0</td>\n",
       "      <td>1</td>\n",
       "    </tr>\n",
       "  </tbody>\n",
       "</table>\n",
       "</div>"
      ],
      "text/plain": [
       "                                          CATALOG_NM  \\\n",
       "0  new season 2023 black tea ctc milk tea fulmex ...   \n",
       "1                                            cow mat   \n",
       "2  5 1 multifunct 4d hifu ultra lift needl rf vma...   \n",
       "3  6mm 612 electr dc mini vibrat motor vr massag ...   \n",
       "4  pe foam sheet extrud epe foam sheet extrud foa...   \n",
       "\n",
       "                                             KEYWORD        INPUT_DT  \\\n",
       "0                    milk teactc black teafulmex tea  20230228005732   \n",
       "1  rubber matcow matrubb floor matpashu chataidai...  20230227231604   \n",
       "2  4d hifu ultra lift5 1 hifu4d hifu lift4d needl...  20230227224740   \n",
       "3  vibrat motordc motorcoreless motormini motorsm...  20230227223506   \n",
       "4  pe foam sheet extruderp foam extrusionep foam ...  20230227214151   \n",
       "\n",
       "        UPDATE_DT        REMOTEIP  SHOW_CHK  judge  \n",
       "0  20230228005732  14.177.113.144         0      1  \n",
       "1  20230227231604    49.34.172.73         0      1  \n",
       "2  20230227224740  159.138.61.247         0      1  \n",
       "3  20230227223506  103.167.134.61         0      1  \n",
       "4  20230227214151  118.41.162.204         0      1  "
      ]
     },
     "execution_count": 54,
     "metadata": {},
     "output_type": "execute_result"
    }
   ],
   "source": [
    "merged_df.head()"
   ]
  },
  {
   "cell_type": "markdown",
   "metadata": {},
   "source": [
    "## 라벨 인코딩"
   ]
  },
  {
   "cell_type": "code",
   "execution_count": 30,
   "metadata": {},
   "outputs": [],
   "source": [
    "from sklearn.preprocessing import LabelEncoder"
   ]
  },
  {
   "cell_type": "code",
   "execution_count": 31,
   "metadata": {},
   "outputs": [
    {
     "name": "stdout",
     "output_type": "stream",
     "text": [
      "              INPUT_DT       UPDATE_DT     REMOTEIP  judge  \\\n",
      "0       20230228005732  20230228005732  14177113144      1   \n",
      "1       20230227231604  20230227231604    493417273      1   \n",
      "2       20230227224740  20230227224740  15913861247      1   \n",
      "3       20230227223506  20230227223506  10316713461      1   \n",
      "4       20230227214151  20230227214151  11841162204      1   \n",
      "...                ...             ...          ...    ...   \n",
      "751310  20180101031323  20180101031323   9122621280      0   \n",
      "751311  20180101031009  20180101031009   9122621280      0   \n",
      "751312  20180101030646  20180101030646   9122621280      0   \n",
      "751313  20180101030314  20180101030314   9122621280      0   \n",
      "751314  20180101025359  20180101025359   9122621280      0   \n",
      "\n",
      "        CATALOG_NM_encoded  KEYWORD_encoded  \n",
      "0                   309996           213049  \n",
      "1                   135858           281551  \n",
      "2                    33402             8042  \n",
      "3                    38098           341147  \n",
      "4                   335496           242581  \n",
      "...                    ...              ...  \n",
      "751310              201685            27524  \n",
      "751311              344790            45249  \n",
      "751312              375214            45249  \n",
      "751313              133173            85214  \n",
      "751314               67929           149720  \n",
      "\n",
      "[751315 rows x 6 columns]\n"
     ]
    }
   ],
   "source": [
    "if 'CATALOG_NM' in merged_df.columns and 'KEYWORD' in merged_df.columns:\n",
    "    label_encoder = LabelEncoder()\n",
    "\n",
    "    # Label encode 'CATALOG_NM' and 'KEYWORD' columns\n",
    "    merged_df['CATALOG_NM_encoded'] = label_encoder.fit_transform(merged_df['CATALOG_NM'])\n",
    "    merged_df['KEYWORD_encoded'] = label_encoder.fit_transform(merged_df['KEYWORD'])\n",
    "\n",
    "    # Drop the original 'CATALOG_NM' and 'KEYWORD' columns\n",
    "    merged_df = merged_df.drop(['CATALOG_NM', 'KEYWORD'], axis=1)\n",
    "\n",
    "    # Display the updated DataFrame\n",
    "    print(merged_df)\n",
    "else:\n",
    "    print(\"The necessary columns 'CATALOG_NM' and/or 'KEYWORD' are missing.\")"
   ]
  },
  {
   "cell_type": "code",
   "execution_count": 55,
   "metadata": {},
   "outputs": [
    {
     "data": {
      "text/html": [
       "<div>\n",
       "<style scoped>\n",
       "    .dataframe tbody tr th:only-of-type {\n",
       "        vertical-align: middle;\n",
       "    }\n",
       "\n",
       "    .dataframe tbody tr th {\n",
       "        vertical-align: top;\n",
       "    }\n",
       "\n",
       "    .dataframe thead th {\n",
       "        text-align: right;\n",
       "    }\n",
       "</style>\n",
       "<table border=\"1\" class=\"dataframe\">\n",
       "  <thead>\n",
       "    <tr style=\"text-align: right;\">\n",
       "      <th></th>\n",
       "      <th>CATALOG_NM</th>\n",
       "      <th>KEYWORD</th>\n",
       "      <th>INPUT_DT</th>\n",
       "      <th>UPDATE_DT</th>\n",
       "      <th>REMOTEIP</th>\n",
       "      <th>SHOW_CHK</th>\n",
       "      <th>judge</th>\n",
       "    </tr>\n",
       "  </thead>\n",
       "  <tbody>\n",
       "    <tr>\n",
       "      <th>0</th>\n",
       "      <td>new season 2023 black tea ctc milk tea fulmex ...</td>\n",
       "      <td>milk teactc black teafulmex tea</td>\n",
       "      <td>20230228005732</td>\n",
       "      <td>20230228005732</td>\n",
       "      <td>14.177.113.144</td>\n",
       "      <td>0</td>\n",
       "      <td>1</td>\n",
       "    </tr>\n",
       "    <tr>\n",
       "      <th>1</th>\n",
       "      <td>cow mat</td>\n",
       "      <td>rubber matcow matrubb floor matpashu chataidai...</td>\n",
       "      <td>20230227231604</td>\n",
       "      <td>20230227231604</td>\n",
       "      <td>49.34.172.73</td>\n",
       "      <td>0</td>\n",
       "      <td>1</td>\n",
       "    </tr>\n",
       "    <tr>\n",
       "      <th>2</th>\n",
       "      <td>5 1 multifunct 4d hifu ultra lift needl rf vma...</td>\n",
       "      <td>4d hifu ultra lift5 1 hifu4d hifu lift4d needl...</td>\n",
       "      <td>20230227224740</td>\n",
       "      <td>20230227224740</td>\n",
       "      <td>159.138.61.247</td>\n",
       "      <td>0</td>\n",
       "      <td>1</td>\n",
       "    </tr>\n",
       "    <tr>\n",
       "      <th>3</th>\n",
       "      <td>6mm 612 electr dc mini vibrat motor vr massag ...</td>\n",
       "      <td>vibrat motordc motorcoreless motormini motorsm...</td>\n",
       "      <td>20230227223506</td>\n",
       "      <td>20230227223506</td>\n",
       "      <td>103.167.134.61</td>\n",
       "      <td>0</td>\n",
       "      <td>1</td>\n",
       "    </tr>\n",
       "    <tr>\n",
       "      <th>4</th>\n",
       "      <td>pe foam sheet extrud epe foam sheet extrud foa...</td>\n",
       "      <td>pe foam sheet extruderp foam extrusionep foam ...</td>\n",
       "      <td>20230227214151</td>\n",
       "      <td>20230227214151</td>\n",
       "      <td>118.41.162.204</td>\n",
       "      <td>0</td>\n",
       "      <td>1</td>\n",
       "    </tr>\n",
       "  </tbody>\n",
       "</table>\n",
       "</div>"
      ],
      "text/plain": [
       "                                          CATALOG_NM  \\\n",
       "0  new season 2023 black tea ctc milk tea fulmex ...   \n",
       "1                                            cow mat   \n",
       "2  5 1 multifunct 4d hifu ultra lift needl rf vma...   \n",
       "3  6mm 612 electr dc mini vibrat motor vr massag ...   \n",
       "4  pe foam sheet extrud epe foam sheet extrud foa...   \n",
       "\n",
       "                                             KEYWORD        INPUT_DT  \\\n",
       "0                    milk teactc black teafulmex tea  20230228005732   \n",
       "1  rubber matcow matrubb floor matpashu chataidai...  20230227231604   \n",
       "2  4d hifu ultra lift5 1 hifu4d hifu lift4d needl...  20230227224740   \n",
       "3  vibrat motordc motorcoreless motormini motorsm...  20230227223506   \n",
       "4  pe foam sheet extruderp foam extrusionep foam ...  20230227214151   \n",
       "\n",
       "        UPDATE_DT        REMOTEIP  SHOW_CHK  judge  \n",
       "0  20230228005732  14.177.113.144         0      1  \n",
       "1  20230227231604    49.34.172.73         0      1  \n",
       "2  20230227224740  159.138.61.247         0      1  \n",
       "3  20230227223506  103.167.134.61         0      1  \n",
       "4  20230227214151  118.41.162.204         0      1  "
      ]
     },
     "execution_count": 55,
     "metadata": {},
     "output_type": "execute_result"
    }
   ],
   "source": [
    "merged_df.head()"
   ]
  },
  {
   "cell_type": "code",
   "execution_count": 33,
   "metadata": {},
   "outputs": [
    {
     "data": {
      "text/plain": [
       "judge\n",
       "1    538722\n",
       "0    212593\n",
       "Name: count, dtype: int64"
      ]
     },
     "execution_count": 33,
     "metadata": {},
     "output_type": "execute_result"
    }
   ],
   "source": [
    "merged_df['judge'].value_counts()"
   ]
  },
  {
   "cell_type": "markdown",
   "metadata": {},
   "source": [
    "## 원핫인코딩"
   ]
  },
  {
   "cell_type": "code",
   "execution_count": null,
   "metadata": {},
   "outputs": [],
   "source": [
    "if 'CATALOG_NM' in merged_df.columns and 'KEYWORD' in merged_df.columns:\n",
    "    # One-hot encode 'CATALOG_NM' and 'KEYWORD' columns\n",
    "    merged_df = pd.get_dummies(merged_df, columns=['CATALOG_NM', 'KEYWORD'], drop_first=True)\n",
    "\n",
    "    # Display the updated DataFrame\n",
    "    print(merged_df)\n",
    "else:\n",
    "    print(\"The necessary columns 'CATALOG_NM' and/or 'KEYWORD' are missing.\")"
   ]
  },
  {
   "cell_type": "markdown",
   "metadata": {},
   "source": [
    "## 머신러닝 모델 패키지 설치"
   ]
  },
  {
   "cell_type": "code",
   "execution_count": null,
   "metadata": {},
   "outputs": [],
   "source": [
    "from sklearn.model_selection import train_test_split\n",
    "from sklearn.tree import DecisionTreeClassifier\n",
    "from sklearn.ensemble import RandomForestClassifier\n",
    "from sklearn.metrics import accuracy_score, classification_report, confusion_matrix"
   ]
  },
  {
   "cell_type": "markdown",
   "metadata": {},
   "source": [
    "## 디시젼 트리, 랜덤 포레스트 모델"
   ]
  },
  {
   "cell_type": "code",
   "execution_count": null,
   "metadata": {},
   "outputs": [
    {
     "name": "stdout",
     "output_type": "stream",
     "text": [
      "Decision Tree Model:\n",
      "Accuracy: 0.9141438677518751\n",
      "Classification Report:\n",
      "               precision    recall  f1-score   support\n",
      "\n",
      "           0       0.84      0.85      0.85     42437\n",
      "           1       0.94      0.94      0.94    107826\n",
      "\n",
      "    accuracy                           0.91    150263\n",
      "   macro avg       0.89      0.90      0.89    150263\n",
      "weighted avg       0.91      0.91      0.91    150263\n",
      "\n",
      "Confusion Matrix:\n",
      " [[ 36194   6243]\n",
      " [  6658 101168]]\n",
      "\n",
      "Random Forest Model:\n",
      "Accuracy: 0.9411365405988168\n",
      "Classification Report:\n",
      "               precision    recall  f1-score   support\n",
      "\n",
      "           0       0.95      0.83      0.89     42437\n",
      "           1       0.94      0.98      0.96    107826\n",
      "\n",
      "    accuracy                           0.94    150263\n",
      "   macro avg       0.94      0.91      0.92    150263\n",
      "weighted avg       0.94      0.94      0.94    150263\n",
      "\n",
      "Confusion Matrix:\n",
      " [[ 35355   7082]\n",
      " [  1763 106063]]\n"
     ]
    }
   ],
   "source": [
    "X = merged_df.drop('judge', axis=1)\n",
    "y = merged_df['judge']\n",
    "\n",
    "# Split the data into training and testing sets\n",
    "X_train, X_test, y_train, y_test = train_test_split(X, y, test_size=0.2, random_state=42)\n",
    "\n",
    "# Decision Tree Model\n",
    "decision_tree_model = DecisionTreeClassifier(random_state=42)\n",
    "decision_tree_model.fit(X_train, y_train)\n",
    "\n",
    "# Random Forest Model\n",
    "random_forest_model = RandomForestClassifier(random_state=42)\n",
    "random_forest_model.fit(X_train, y_train)\n",
    "\n",
    "# Make predictions on the test set\n",
    "y_pred_decision_tree = decision_tree_model.predict(X_test)\n",
    "y_pred_random_forest = random_forest_model.predict(X_test)\n",
    "\n",
    "# Evaluate Decision Tree Model\n",
    "print(\"Decision Tree Model:\")\n",
    "print(\"Accuracy:\", accuracy_score(y_test, y_pred_decision_tree))\n",
    "print(\"Classification Report:\\n\", classification_report(y_test, y_pred_decision_tree))\n",
    "print(\"Confusion Matrix:\\n\", confusion_matrix(y_test, y_pred_decision_tree))\n",
    "\n",
    "# Evaluate Random Forest Model\n",
    "print(\"\\nRandom Forest Model:\")\n",
    "print(\"Accuracy:\", accuracy_score(y_test, y_pred_random_forest))\n",
    "print(\"Classification Report:\\n\", classification_report(y_test, y_pred_random_forest))\n",
    "print(\"Confusion Matrix:\\n\", confusion_matrix(y_test, y_pred_random_forest))"
   ]
  },
  {
   "cell_type": "markdown",
   "metadata": {},
   "source": [
    "## 실제 데이터 입력"
   ]
  },
  {
   "cell_type": "markdown",
   "metadata": {},
   "source": [
    "### 실제 데이터에서 랜덤으로 20개 추출 "
   ]
  },
  {
   "cell_type": "code",
   "execution_count": null,
   "metadata": {},
   "outputs": [
    {
     "data": {
      "text/html": [
       "<div>\n",
       "<style scoped>\n",
       "    .dataframe tbody tr th:only-of-type {\n",
       "        vertical-align: middle;\n",
       "    }\n",
       "\n",
       "    .dataframe tbody tr th {\n",
       "        vertical-align: top;\n",
       "    }\n",
       "\n",
       "    .dataframe thead th {\n",
       "        text-align: right;\n",
       "    }\n",
       "</style>\n",
       "<table border=\"1\" class=\"dataframe\">\n",
       "  <thead>\n",
       "    <tr style=\"text-align: right;\">\n",
       "      <th></th>\n",
       "      <th>INPUT_DT</th>\n",
       "      <th>UPDATE_DT</th>\n",
       "      <th>REMOTEIP</th>\n",
       "      <th>judge</th>\n",
       "      <th>CATALOG_NM_encoded</th>\n",
       "      <th>KEYWORD_encoded</th>\n",
       "    </tr>\n",
       "  </thead>\n",
       "  <tbody>\n",
       "    <tr>\n",
       "      <th>424815</th>\n",
       "      <td>20181010135044</td>\n",
       "      <td>20181010135044</td>\n",
       "      <td>183207172240</td>\n",
       "      <td>1</td>\n",
       "      <td>347211</td>\n",
       "      <td>99779</td>\n",
       "    </tr>\n",
       "    <tr>\n",
       "      <th>538734</th>\n",
       "      <td>20230227170552</td>\n",
       "      <td>20230227170552</td>\n",
       "      <td>22024612462</td>\n",
       "      <td>0</td>\n",
       "      <td>88588</td>\n",
       "      <td>46017</td>\n",
       "    </tr>\n",
       "    <tr>\n",
       "      <th>303681</th>\n",
       "      <td>20191210143447</td>\n",
       "      <td>20191230152344</td>\n",
       "      <td>149129120204</td>\n",
       "      <td>1</td>\n",
       "      <td>24908</td>\n",
       "      <td>233063</td>\n",
       "    </tr>\n",
       "    <tr>\n",
       "      <th>598332</th>\n",
       "      <td>20220607144934</td>\n",
       "      <td>202206080908</td>\n",
       "      <td>10413131150</td>\n",
       "      <td>0</td>\n",
       "      <td>399644</td>\n",
       "      <td>303949</td>\n",
       "    </tr>\n",
       "    <tr>\n",
       "      <th>319122</th>\n",
       "      <td>20190924150655</td>\n",
       "      <td>20220808170338</td>\n",
       "      <td>596169206</td>\n",
       "      <td>1</td>\n",
       "      <td>117572</td>\n",
       "      <td>167642</td>\n",
       "    </tr>\n",
       "    <tr>\n",
       "      <th>432512</th>\n",
       "      <td>20180910155346</td>\n",
       "      <td>20180910155346</td>\n",
       "      <td>11388198174</td>\n",
       "      <td>1</td>\n",
       "      <td>26898</td>\n",
       "      <td>5620</td>\n",
       "    </tr>\n",
       "    <tr>\n",
       "      <th>601842</th>\n",
       "      <td>20220524000824</td>\n",
       "      <td>20220524000824</td>\n",
       "      <td>462463200</td>\n",
       "      <td>0</td>\n",
       "      <td>297158</td>\n",
       "      <td>220089</td>\n",
       "    </tr>\n",
       "    <tr>\n",
       "      <th>349133</th>\n",
       "      <td>20190602131327</td>\n",
       "      <td>201907190921</td>\n",
       "      <td>91132137102</td>\n",
       "      <td>1</td>\n",
       "      <td>450841</td>\n",
       "      <td>235447</td>\n",
       "    </tr>\n",
       "    <tr>\n",
       "      <th>727159</th>\n",
       "      <td>20190110183715</td>\n",
       "      <td>202107241449</td>\n",
       "      <td>3757116120</td>\n",
       "      <td>0</td>\n",
       "      <td>45350</td>\n",
       "      <td>348408</td>\n",
       "    </tr>\n",
       "    <tr>\n",
       "      <th>274378</th>\n",
       "      <td>20200422153242</td>\n",
       "      <td>20200422153242</td>\n",
       "      <td>22024221130</td>\n",
       "      <td>1</td>\n",
       "      <td>87510</td>\n",
       "      <td>101679</td>\n",
       "    </tr>\n",
       "    <tr>\n",
       "      <th>672417</th>\n",
       "      <td>20200822131951</td>\n",
       "      <td>20200822131951</td>\n",
       "      <td>6422711141</td>\n",
       "      <td>0</td>\n",
       "      <td>323462</td>\n",
       "      <td>111226</td>\n",
       "    </tr>\n",
       "    <tr>\n",
       "      <th>304128</th>\n",
       "      <td>20191207204344</td>\n",
       "      <td>20191207213136</td>\n",
       "      <td>113118168196</td>\n",
       "      <td>1</td>\n",
       "      <td>125922</td>\n",
       "      <td>76199</td>\n",
       "    </tr>\n",
       "    <tr>\n",
       "      <th>400873</th>\n",
       "      <td>20181211045212</td>\n",
       "      <td>20190704211056</td>\n",
       "      <td>197242115198</td>\n",
       "      <td>1</td>\n",
       "      <td>374090</td>\n",
       "      <td>279057</td>\n",
       "    </tr>\n",
       "    <tr>\n",
       "      <th>309736</th>\n",
       "      <td>20191111155434</td>\n",
       "      <td>20191126164247</td>\n",
       "      <td>180115118189</td>\n",
       "      <td>1</td>\n",
       "      <td>175369</td>\n",
       "      <td>121987</td>\n",
       "    </tr>\n",
       "    <tr>\n",
       "      <th>21358</th>\n",
       "      <td>20221114000559</td>\n",
       "      <td>20221114000559</td>\n",
       "      <td>43153218</td>\n",
       "      <td>1</td>\n",
       "      <td>238789</td>\n",
       "      <td>305352</td>\n",
       "    </tr>\n",
       "    <tr>\n",
       "      <th>694893</th>\n",
       "      <td>20200507065635</td>\n",
       "      <td>20200507065635</td>\n",
       "      <td>15718514490</td>\n",
       "      <td>0</td>\n",
       "      <td>200666</td>\n",
       "      <td>144912</td>\n",
       "    </tr>\n",
       "    <tr>\n",
       "      <th>350105</th>\n",
       "      <td>20190529134540</td>\n",
       "      <td>202208240923</td>\n",
       "      <td>1112212222</td>\n",
       "      <td>1</td>\n",
       "      <td>284903</td>\n",
       "      <td>291551</td>\n",
       "    </tr>\n",
       "    <tr>\n",
       "      <th>470067</th>\n",
       "      <td>20180619155043</td>\n",
       "      <td>20180619155043</td>\n",
       "      <td>11925430204</td>\n",
       "      <td>1</td>\n",
       "      <td>412777</td>\n",
       "      <td>257752</td>\n",
       "    </tr>\n",
       "    <tr>\n",
       "      <th>27494</th>\n",
       "      <td>20221019173558</td>\n",
       "      <td>20221019173558</td>\n",
       "      <td>10317252178</td>\n",
       "      <td>1</td>\n",
       "      <td>237525</td>\n",
       "      <td>293861</td>\n",
       "    </tr>\n",
       "    <tr>\n",
       "      <th>295927</th>\n",
       "      <td>20200123112117</td>\n",
       "      <td>20200123112117</td>\n",
       "      <td>95169563</td>\n",
       "      <td>1</td>\n",
       "      <td>71471</td>\n",
       "      <td>34652</td>\n",
       "    </tr>\n",
       "  </tbody>\n",
       "</table>\n",
       "</div>"
      ],
      "text/plain": [
       "              INPUT_DT       UPDATE_DT      REMOTEIP  judge  \\\n",
       "424815  20181010135044  20181010135044  183207172240      1   \n",
       "538734  20230227170552  20230227170552   22024612462      0   \n",
       "303681  20191210143447  20191230152344  149129120204      1   \n",
       "598332  20220607144934    202206080908   10413131150      0   \n",
       "319122  20190924150655  20220808170338     596169206      1   \n",
       "432512  20180910155346  20180910155346   11388198174      1   \n",
       "601842  20220524000824  20220524000824     462463200      0   \n",
       "349133  20190602131327    201907190921   91132137102      1   \n",
       "727159  20190110183715    202107241449    3757116120      0   \n",
       "274378  20200422153242  20200422153242   22024221130      1   \n",
       "672417  20200822131951  20200822131951    6422711141      0   \n",
       "304128  20191207204344  20191207213136  113118168196      1   \n",
       "400873  20181211045212  20190704211056  197242115198      1   \n",
       "309736  20191111155434  20191126164247  180115118189      1   \n",
       "21358   20221114000559  20221114000559      43153218      1   \n",
       "694893  20200507065635  20200507065635   15718514490      0   \n",
       "350105  20190529134540    202208240923    1112212222      1   \n",
       "470067  20180619155043  20180619155043   11925430204      1   \n",
       "27494   20221019173558  20221019173558   10317252178      1   \n",
       "295927  20200123112117  20200123112117      95169563      1   \n",
       "\n",
       "        CATALOG_NM_encoded  KEYWORD_encoded  \n",
       "424815              347211            99779  \n",
       "538734               88588            46017  \n",
       "303681               24908           233063  \n",
       "598332              399644           303949  \n",
       "319122              117572           167642  \n",
       "432512               26898             5620  \n",
       "601842              297158           220089  \n",
       "349133              450841           235447  \n",
       "727159               45350           348408  \n",
       "274378               87510           101679  \n",
       "672417              323462           111226  \n",
       "304128              125922            76199  \n",
       "400873              374090           279057  \n",
       "309736              175369           121987  \n",
       "21358               238789           305352  \n",
       "694893              200666           144912  \n",
       "350105              284903           291551  \n",
       "470067              412777           257752  \n",
       "27494               237525           293861  \n",
       "295927               71471            34652  "
      ]
     },
     "execution_count": 47,
     "metadata": {},
     "output_type": "execute_result"
    }
   ],
   "source": [
    "random_sample_df = merged_df.sample(n=20, random_state=42)\n",
    "random_sample_df.head(20)"
   ]
  },
  {
   "cell_type": "code",
   "execution_count": null,
   "metadata": {},
   "outputs": [],
   "source": [
    "random_sample_df = random_sample_df.drop('judge', axis=1)"
   ]
  },
  {
   "cell_type": "markdown",
   "metadata": {},
   "source": [
    "### 모델 성능 결과"
   ]
  },
  {
   "cell_type": "code",
   "execution_count": null,
   "metadata": {},
   "outputs": [
    {
     "name": "stdout",
     "output_type": "stream",
     "text": [
      "Predictions for new data: [1 1 1 0 1 1 0 1 0 1 0 1 1 1 1 0 1 1 1 1]\n"
     ]
    }
   ],
   "source": [
    "new_predictions = random_forest_model.predict(random_sample_df)\n",
    "\n",
    "# Display the predictions\n",
    "print(\"Predictions for new data:\", new_predictions)"
   ]
  },
  {
   "cell_type": "code",
   "execution_count": null,
   "metadata": {},
   "outputs": [],
   "source": [
    "Predictions for new data: [1 1 1 0 1 1 0 1 0 1 0 1 1 1 1 0 1 1 1 1]\n",
    "Result for new data:      [1 1 0 1 0 1 1 0 1 0 1 0 1 1 1 0 1 1 1 1]"
   ]
  }
 ],
 "metadata": {
  "kernelspec": {
   "display_name": "Python 3",
   "language": "python",
   "name": "python3"
  },
  "language_info": {
   "codemirror_mode": {
    "name": "ipython",
    "version": 3
   },
   "file_extension": ".py",
   "mimetype": "text/x-python",
   "name": "python",
   "nbconvert_exporter": "python",
   "pygments_lexer": "ipython3",
   "version": "3.11.7"
  }
 },
 "nbformat": 4,
 "nbformat_minor": 2
}
