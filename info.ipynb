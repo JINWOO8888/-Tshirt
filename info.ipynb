{
 "cells": [
  {
   "cell_type": "code",
   "execution_count": 2,
   "metadata": {},
   "outputs": [],
   "source": [
    "import pandas as pd"
   ]
  },
  {
   "cell_type": "code",
   "execution_count": 3,
   "metadata": {},
   "outputs": [
    {
     "name": "stderr",
     "output_type": "stream",
     "text": [
      "C:\\Users\\ujn9\\AppData\\Local\\Temp\\ipykernel_16676\\2758127978.py:5: DtypeWarning: Columns (10,12,14,16,17) have mixed types. Specify dtype option on import or set low_memory=False.\n",
      "  normal_member = pd.read_csv('./dataset/정상회원데이터.csv')\n",
      "C:\\Users\\ujn9\\AppData\\Local\\Temp\\ipykernel_16676\\2758127978.py:6: DtypeWarning: Columns (7,10,11,12,16,17) have mixed types. Specify dtype option on import or set low_memory=False.\n",
      "  weird_member = pd.read_csv('./dataset/이상회원데이터.csv')\n"
     ]
    }
   ],
   "source": [
    "keywords = pd.read_csv('./dataset/금지어keyword.csv')\n",
    "blacklist = pd.read_csv('./dataset/블랙리스트정보v2 - 복사본.csv')\n",
    "normal_item_2022 = pd.read_csv('./dataset/정상상품.csv')\n",
    "weird_item_2022 = pd.read_csv('./dataset/이상상품.csv')\n",
    "normal_member = pd.read_csv('./dataset/정상회원데이터.csv')\n",
    "weird_member = pd.read_csv('./dataset/이상회원데이터.csv')"
   ]
  },
  {
   "cell_type": "code",
   "execution_count": 4,
   "metadata": {},
   "outputs": [],
   "source": [
    "import sklearn"
   ]
  },
  {
   "cell_type": "markdown",
   "metadata": {},
   "source": [
    "## 불필요컬럼 제거"
   ]
  },
  {
   "cell_type": "code",
   "execution_count": 5,
   "metadata": {},
   "outputs": [
    {
     "data": {
      "text/plain": [
       "Index(['MEMBER_ID', 'GCATALOG_ID', 'CATALOG_ID', 'CATALOG_NM', 'CATEGORYM_ID',\n",
       "       'KEYWORD', 'DISPLAY', 'CATALOG_DESC', 'INPUT_DT', 'UPDATE_DT',\n",
       "       'REMOTEIP', 'SHOW_CHK'],\n",
       "      dtype='object')"
      ]
     },
     "execution_count": 5,
     "metadata": {},
     "output_type": "execute_result"
    }
   ],
   "source": [
    "normal_item_2022.columns"
   ]
  },
  {
   "cell_type": "code",
   "execution_count": 6,
   "metadata": {},
   "outputs": [],
   "source": [
    "columns_to_keep = ['CATALOG_NM', 'KEYWORD', 'DISPLAY', 'CATALOG_DESC', 'INPUT_DT', 'UPDATE_DT', 'REMOTEIP', 'SHOW_CHK']\n",
    "normal_item_2022 = normal_item_2022.loc[:, columns_to_keep]"
   ]
  },
  {
   "cell_type": "code",
   "execution_count": 7,
   "metadata": {},
   "outputs": [],
   "source": [
    "columns_to_keep = ['CATALOG_NM', 'KEYWORD', 'DISPLAY', 'INPUT_DT', 'UPDATE_DT', 'REMOTEIP', 'SHOW_CHK']\n",
    "normal_item_2022 = normal_item_2022.loc[:, columns_to_keep]"
   ]
  },
  {
   "cell_type": "code",
   "execution_count": 8,
   "metadata": {},
   "outputs": [
    {
     "data": {
      "text/plain": [
       "Index(['CATALOG_NM', 'KEYWORD', 'DISPLAY', 'INPUT_DT', 'UPDATE_DT', 'REMOTEIP',\n",
       "       'SHOW_CHK'],\n",
       "      dtype='object')"
      ]
     },
     "execution_count": 8,
     "metadata": {},
     "output_type": "execute_result"
    }
   ],
   "source": [
    "normal_item_2022.columns"
   ]
  },
  {
   "cell_type": "code",
   "execution_count": 9,
   "metadata": {},
   "outputs": [],
   "source": [
    "columns_to_keep = ['CATALOG_NM', 'KEYWORD', 'DISPLAY', 'INPUT_DT', 'UPDATE_DT', 'REMOTEIP', 'SHOW_CHK']\n",
    "weird_item_2022 = weird_item_2022.loc[:, columns_to_keep]"
   ]
  },
  {
   "cell_type": "markdown",
   "metadata": {},
   "source": [
    "## 이상상품 판단 컬럼 추가"
   ]
  },
  {
   "cell_type": "code",
   "execution_count": 10,
   "metadata": {},
   "outputs": [],
   "source": [
    "normal_item_2022['judge'] = 1\n",
    "weird_item_2022['judge'] = 0"
   ]
  },
  {
   "cell_type": "code",
   "execution_count": 11,
   "metadata": {},
   "outputs": [
    {
     "data": {
      "text/html": [
       "<div>\n",
       "<style scoped>\n",
       "    .dataframe tbody tr th:only-of-type {\n",
       "        vertical-align: middle;\n",
       "    }\n",
       "\n",
       "    .dataframe tbody tr th {\n",
       "        vertical-align: top;\n",
       "    }\n",
       "\n",
       "    .dataframe thead th {\n",
       "        text-align: right;\n",
       "    }\n",
       "</style>\n",
       "<table border=\"1\" class=\"dataframe\">\n",
       "  <thead>\n",
       "    <tr style=\"text-align: right;\">\n",
       "      <th></th>\n",
       "      <th>CATALOG_NM</th>\n",
       "      <th>KEYWORD</th>\n",
       "      <th>DISPLAY</th>\n",
       "      <th>INPUT_DT</th>\n",
       "      <th>UPDATE_DT</th>\n",
       "      <th>REMOTEIP</th>\n",
       "      <th>SHOW_CHK</th>\n",
       "      <th>judge</th>\n",
       "    </tr>\n",
       "  </thead>\n",
       "  <tbody>\n",
       "    <tr>\n",
       "      <th>0</th>\n",
       "      <td>1-BOC-4-(4-BROMO-PHENYLAMINO)-PIPERIDINECas 44...</td>\n",
       "      <td>1-BOC-4- 4-BROMO-PHENYLAM</td>\n",
       "      <td>Y</td>\n",
       "      <td>20230228100427</td>\n",
       "      <td>20230228100427</td>\n",
       "      <td>219.78.227.175</td>\n",
       "      <td>R</td>\n",
       "      <td>0</td>\n",
       "    </tr>\n",
       "    <tr>\n",
       "      <th>1</th>\n",
       "      <td>High Purity N- (Tert-Butoxycarbonyl) -4-Piperi...</td>\n",
       "      <td>N- tert-Butoxycarbonyl -4</td>\n",
       "      <td>Y</td>\n",
       "      <td>20230228094237</td>\n",
       "      <td>20230228094237</td>\n",
       "      <td>42.3.79.92</td>\n",
       "      <td>R</td>\n",
       "      <td>0</td>\n",
       "    </tr>\n",
       "    <tr>\n",
       "      <th>2</th>\n",
       "      <td>1,1-dimethylethyl Ester CAS 288573-56-8</td>\n",
       "      <td>1-BOC-4- 4-FLUORO-PHENYLA</td>\n",
       "      <td>Y</td>\n",
       "      <td>20230228093820</td>\n",
       "      <td>20230228093820</td>\n",
       "      <td>42.3.79.92</td>\n",
       "      <td>R</td>\n",
       "      <td>0</td>\n",
       "    </tr>\n",
       "    <tr>\n",
       "      <th>3</th>\n",
       "      <td>White Crystal N-Isopropylbenzylamine CAS 102-9...</td>\n",
       "      <td>N-Isopropylbenzylamine</td>\n",
       "      <td>Y</td>\n",
       "      <td>20230228091028</td>\n",
       "      <td>20230228091028</td>\n",
       "      <td>42.3.79.92</td>\n",
       "      <td>R</td>\n",
       "      <td>0</td>\n",
       "    </tr>\n",
       "    <tr>\n",
       "      <th>4</th>\n",
       "      <td>Soybean GMO &amp; NON-GMO</td>\n",
       "      <td>Soybean soybean gmo</td>\n",
       "      <td>Y</td>\n",
       "      <td>20230228075935</td>\n",
       "      <td>20230228075935</td>\n",
       "      <td>131.196.216.214</td>\n",
       "      <td>R</td>\n",
       "      <td>0</td>\n",
       "    </tr>\n",
       "  </tbody>\n",
       "</table>\n",
       "</div>"
      ],
      "text/plain": [
       "                                          CATALOG_NM  \\\n",
       "0  1-BOC-4-(4-BROMO-PHENYLAMINO)-PIPERIDINECas 44...   \n",
       "1  High Purity N- (Tert-Butoxycarbonyl) -4-Piperi...   \n",
       "2            1,1-dimethylethyl Ester CAS 288573-56-8   \n",
       "3  White Crystal N-Isopropylbenzylamine CAS 102-9...   \n",
       "4                              Soybean GMO & NON-GMO   \n",
       "\n",
       "                     KEYWORD DISPLAY        INPUT_DT       UPDATE_DT  \\\n",
       "0  1-BOC-4- 4-BROMO-PHENYLAM       Y  20230228100427  20230228100427   \n",
       "1  N- tert-Butoxycarbonyl -4       Y  20230228094237  20230228094237   \n",
       "2  1-BOC-4- 4-FLUORO-PHENYLA       Y  20230228093820  20230228093820   \n",
       "3     N-Isopropylbenzylamine       Y  20230228091028  20230228091028   \n",
       "4        Soybean soybean gmo       Y  20230228075935  20230228075935   \n",
       "\n",
       "          REMOTEIP SHOW_CHK  judge  \n",
       "0   219.78.227.175        R      0  \n",
       "1       42.3.79.92        R      0  \n",
       "2       42.3.79.92        R      0  \n",
       "3       42.3.79.92        R      0  \n",
       "4  131.196.216.214        R      0  "
      ]
     },
     "execution_count": 11,
     "metadata": {},
     "output_type": "execute_result"
    }
   ],
   "source": [
    "weird_item_2022.head()"
   ]
  },
  {
   "cell_type": "code",
   "execution_count": 12,
   "metadata": {},
   "outputs": [
    {
     "name": "stdout",
     "output_type": "stream",
     "text": [
      "Requirement already satisfied: nltk in c:\\users\\ujn9\\appdata\\local\\packages\\pythonsoftwarefoundation.python.3.11_qbz5n2kfra8p0\\localcache\\local-packages\\python311\\site-packages (3.8.1)\n",
      "Requirement already satisfied: click in c:\\users\\ujn9\\appdata\\local\\packages\\pythonsoftwarefoundation.python.3.11_qbz5n2kfra8p0\\localcache\\local-packages\\python311\\site-packages (from nltk) (8.1.7)\n",
      "Requirement already satisfied: joblib in c:\\users\\ujn9\\appdata\\local\\packages\\pythonsoftwarefoundation.python.3.11_qbz5n2kfra8p0\\localcache\\local-packages\\python311\\site-packages (from nltk) (1.3.2)\n",
      "Requirement already satisfied: regex>=2021.8.3 in c:\\users\\ujn9\\appdata\\local\\packages\\pythonsoftwarefoundation.python.3.11_qbz5n2kfra8p0\\localcache\\local-packages\\python311\\site-packages (from nltk) (2023.10.3)\n",
      "Requirement already satisfied: tqdm in c:\\users\\ujn9\\appdata\\local\\packages\\pythonsoftwarefoundation.python.3.11_qbz5n2kfra8p0\\localcache\\local-packages\\python311\\site-packages (from nltk) (4.66.1)\n",
      "Requirement already satisfied: colorama in c:\\users\\ujn9\\appdata\\local\\packages\\pythonsoftwarefoundation.python.3.11_qbz5n2kfra8p0\\localcache\\local-packages\\python311\\site-packages (from click->nltk) (0.4.6)\n",
      "Note: you may need to restart the kernel to use updated packages.\n"
     ]
    },
    {
     "name": "stderr",
     "output_type": "stream",
     "text": [
      "\n",
      "[notice] A new release of pip is available: 23.2.1 -> 23.3.1\n",
      "[notice] To update, run: C:\\Users\\ujn9\\AppData\\Local\\Microsoft\\WindowsApps\\PythonSoftwareFoundation.Python.3.11_qbz5n2kfra8p0\\python.exe -m pip install --upgrade pip\n"
     ]
    }
   ],
   "source": [
    "pip install nltk"
   ]
  },
  {
   "cell_type": "code",
   "execution_count": 13,
   "metadata": {},
   "outputs": [
    {
     "name": "stdout",
     "output_type": "stream",
     "text": [
      "Requirement already satisfied: nltk in c:\\users\\ujn9\\appdata\\local\\packages\\pythonsoftwarefoundation.python.3.11_qbz5n2kfra8p0\\localcache\\local-packages\\python311\\site-packages (3.8.1)Note: you may need to restart the kernel to use updated packages.\n"
     ]
    },
    {
     "name": "stderr",
     "output_type": "stream",
     "text": [
      "\n",
      "[notice] A new release of pip is available: 23.2.1 -> 23.3.1\n",
      "[notice] To update, run: C:\\Users\\ujn9\\AppData\\Local\\Microsoft\\WindowsApps\\PythonSoftwareFoundation.Python.3.11_qbz5n2kfra8p0\\python.exe -m pip install --upgrade pip\n"
     ]
    },
    {
     "name": "stdout",
     "output_type": "stream",
     "text": [
      "\n",
      "Requirement already satisfied: click in c:\\users\\ujn9\\appdata\\local\\packages\\pythonsoftwarefoundation.python.3.11_qbz5n2kfra8p0\\localcache\\local-packages\\python311\\site-packages (from nltk) (8.1.7)\n",
      "Requirement already satisfied: joblib in c:\\users\\ujn9\\appdata\\local\\packages\\pythonsoftwarefoundation.python.3.11_qbz5n2kfra8p0\\localcache\\local-packages\\python311\\site-packages (from nltk) (1.3.2)\n",
      "Requirement already satisfied: regex>=2021.8.3 in c:\\users\\ujn9\\appdata\\local\\packages\\pythonsoftwarefoundation.python.3.11_qbz5n2kfra8p0\\localcache\\local-packages\\python311\\site-packages (from nltk) (2023.10.3)\n",
      "Requirement already satisfied: tqdm in c:\\users\\ujn9\\appdata\\local\\packages\\pythonsoftwarefoundation.python.3.11_qbz5n2kfra8p0\\localcache\\local-packages\\python311\\site-packages (from nltk) (4.66.1)\n",
      "Requirement already satisfied: colorama in c:\\users\\ujn9\\appdata\\local\\packages\\pythonsoftwarefoundation.python.3.11_qbz5n2kfra8p0\\localcache\\local-packages\\python311\\site-packages (from click->nltk) (0.4.6)\n"
     ]
    }
   ],
   "source": [
    "pip install --upgrade nltk"
   ]
  },
  {
   "cell_type": "code",
   "execution_count": 14,
   "metadata": {},
   "outputs": [],
   "source": [
    "import nltk"
   ]
  },
  {
   "cell_type": "code",
   "execution_count": 15,
   "metadata": {},
   "outputs": [
    {
     "name": "stderr",
     "output_type": "stream",
     "text": [
      "[nltk_data] Downloading package stopwords to\n",
      "[nltk_data]     C:\\Users\\ujn9\\AppData\\Roaming\\nltk_data...\n",
      "[nltk_data]   Package stopwords is already up-to-date!\n"
     ]
    },
    {
     "data": {
      "text/plain": [
       "True"
      ]
     },
     "execution_count": 15,
     "metadata": {},
     "output_type": "execute_result"
    }
   ],
   "source": [
    "nltk.download('stopwords')"
   ]
  },
  {
   "cell_type": "code",
   "execution_count": 16,
   "metadata": {},
   "outputs": [],
   "source": [
    "from nltk.corpus import stopwords\n",
    "from nltk.stem import PorterStemmer, WordNetLemmatizer\n",
    "import string"
   ]
  },
  {
   "cell_type": "markdown",
   "metadata": {},
   "source": [
    "## 데이터 클렌징"
   ]
  },
  {
   "cell_type": "markdown",
   "metadata": {},
   "source": [
    "### 소문자 변경, Stopwords 제거, 어근추출"
   ]
  },
  {
   "cell_type": "code",
   "execution_count": 17,
   "metadata": {},
   "outputs": [
    {
     "data": {
      "text/html": [
       "<div>\n",
       "<style scoped>\n",
       "    .dataframe tbody tr th:only-of-type {\n",
       "        vertical-align: middle;\n",
       "    }\n",
       "\n",
       "    .dataframe tbody tr th {\n",
       "        vertical-align: top;\n",
       "    }\n",
       "\n",
       "    .dataframe thead th {\n",
       "        text-align: right;\n",
       "    }\n",
       "</style>\n",
       "<table border=\"1\" class=\"dataframe\">\n",
       "  <thead>\n",
       "    <tr style=\"text-align: right;\">\n",
       "      <th></th>\n",
       "      <th>CATALOG_NM</th>\n",
       "      <th>KEYWORD</th>\n",
       "      <th>DISPLAY</th>\n",
       "      <th>INPUT_DT</th>\n",
       "      <th>UPDATE_DT</th>\n",
       "      <th>REMOTEIP</th>\n",
       "      <th>SHOW_CHK</th>\n",
       "      <th>judge</th>\n",
       "    </tr>\n",
       "  </thead>\n",
       "  <tbody>\n",
       "    <tr>\n",
       "      <th>0</th>\n",
       "      <td>new season 2023 black tea ctc milk tea fulmex ...</td>\n",
       "      <td>milk teactc black teafulmex tea</td>\n",
       "      <td></td>\n",
       "      <td>20230228005732</td>\n",
       "      <td>20230228005732</td>\n",
       "      <td>14.177.113.144</td>\n",
       "      <td></td>\n",
       "      <td>1</td>\n",
       "    </tr>\n",
       "    <tr>\n",
       "      <th>1</th>\n",
       "      <td>cow mat</td>\n",
       "      <td>rubber matcow matrubb floor matpashu chataidai...</td>\n",
       "      <td></td>\n",
       "      <td>20230227231604</td>\n",
       "      <td>20230227231604</td>\n",
       "      <td>49.34.172.73</td>\n",
       "      <td></td>\n",
       "      <td>1</td>\n",
       "    </tr>\n",
       "    <tr>\n",
       "      <th>2</th>\n",
       "      <td>5 1 multifunct 4d hifu ultra lift needl rf vma...</td>\n",
       "      <td>4d hifu ultra lift5 1 hifu4d hifu lift4d needl...</td>\n",
       "      <td></td>\n",
       "      <td>20230227224740</td>\n",
       "      <td>20230227224740</td>\n",
       "      <td>159.138.61.247</td>\n",
       "      <td></td>\n",
       "      <td>1</td>\n",
       "    </tr>\n",
       "    <tr>\n",
       "      <th>3</th>\n",
       "      <td>6mm 612 electr dc mini vibrat motor vr massag ...</td>\n",
       "      <td>vibrat motordc motorcoreless motormini motorsm...</td>\n",
       "      <td></td>\n",
       "      <td>20230227223506</td>\n",
       "      <td>20230227223506</td>\n",
       "      <td>103.167.134.61</td>\n",
       "      <td></td>\n",
       "      <td>1</td>\n",
       "    </tr>\n",
       "    <tr>\n",
       "      <th>4</th>\n",
       "      <td>pe foam sheet extrud epe foam sheet extrud foa...</td>\n",
       "      <td>pe foam sheet extruderp foam extrusionep foam ...</td>\n",
       "      <td></td>\n",
       "      <td>20230227214151</td>\n",
       "      <td>20230227214151</td>\n",
       "      <td>118.41.162.204</td>\n",
       "      <td></td>\n",
       "      <td>1</td>\n",
       "    </tr>\n",
       "  </tbody>\n",
       "</table>\n",
       "</div>"
      ],
      "text/plain": [
       "                                          CATALOG_NM  \\\n",
       "0  new season 2023 black tea ctc milk tea fulmex ...   \n",
       "1                                            cow mat   \n",
       "2  5 1 multifunct 4d hifu ultra lift needl rf vma...   \n",
       "3  6mm 612 electr dc mini vibrat motor vr massag ...   \n",
       "4  pe foam sheet extrud epe foam sheet extrud foa...   \n",
       "\n",
       "                                             KEYWORD DISPLAY        INPUT_DT  \\\n",
       "0                    milk teactc black teafulmex tea          20230228005732   \n",
       "1  rubber matcow matrubb floor matpashu chataidai...          20230227231604   \n",
       "2  4d hifu ultra lift5 1 hifu4d hifu lift4d needl...          20230227224740   \n",
       "3  vibrat motordc motorcoreless motormini motorsm...          20230227223506   \n",
       "4  pe foam sheet extruderp foam extrusionep foam ...          20230227214151   \n",
       "\n",
       "        UPDATE_DT        REMOTEIP SHOW_CHK  judge  \n",
       "0  20230228005732  14.177.113.144               1  \n",
       "1  20230227231604    49.34.172.73               1  \n",
       "2  20230227224740  159.138.61.247               1  \n",
       "3  20230227223506  103.167.134.61               1  \n",
       "4  20230227214151  118.41.162.204               1  "
      ]
     },
     "execution_count": 17,
     "metadata": {},
     "output_type": "execute_result"
    }
   ],
   "source": [
    "def preprocess_text(text):\n",
    "    if isinstance(text, str):  # Check if the value is a string\n",
    "        # Convert to lowercase\n",
    "        text = text.lower()\n",
    "\n",
    "        # Remove special characters\n",
    "        text = ''.join([char for char in text if char not in string.punctuation])\n",
    "\n",
    "    return text\n",
    "\n",
    "def remove_stopwords(text):\n",
    "    if isinstance(text, str):  # Check if the value is a string\n",
    "        stop_words = set(stopwords.words('english'))\n",
    "        words = text.split()\n",
    "        filtered_words = [word for word in words if word.lower() not in stop_words]\n",
    "        return ' '.join(filtered_words)\n",
    "    return text\n",
    "\n",
    "def apply_stemming(text):\n",
    "    if isinstance(text, str):  # Check if the value is a string\n",
    "        stemmer = PorterStemmer()\n",
    "        words = text.split()\n",
    "        stemmed_words = [stemmer.stem(word) for word in words]\n",
    "        return ' '.join(stemmed_words)\n",
    "    return text\n",
    "\n",
    "# Apply text processing to specified columns\n",
    "columns_to_process = ['DISPLAY', 'SHOW_CHK','CATALOG_NM', 'KEYWORD']\n",
    "for column in columns_to_process:\n",
    "    normal_item_2022[column] = normal_item_2022[column].apply(preprocess_text)\n",
    "    normal_item_2022[column] = normal_item_2022[column].apply(remove_stopwords)\n",
    "    normal_item_2022[column] = normal_item_2022[column].apply(apply_stemming)  # or apply_lemmatization if you prefer\n",
    "\n",
    "# Displaying the updated DataFrame\n",
    "normal_item_2022.head()"
   ]
  },
  {
   "cell_type": "markdown",
   "metadata": {},
   "source": [
    "### DISPLAY와 SHOW_CHK는 클렌징시 데이터가 소거됨.\n",
    "### 인덱싱으로 알파벳에 숫자를 부여하는 것이 나을 것 같음"
   ]
  },
  {
   "cell_type": "code",
   "execution_count": 26,
   "metadata": {},
   "outputs": [
    {
     "data": {
      "text/html": [
       "<div>\n",
       "<style scoped>\n",
       "    .dataframe tbody tr th:only-of-type {\n",
       "        vertical-align: middle;\n",
       "    }\n",
       "\n",
       "    .dataframe tbody tr th {\n",
       "        vertical-align: top;\n",
       "    }\n",
       "\n",
       "    .dataframe thead th {\n",
       "        text-align: right;\n",
       "    }\n",
       "</style>\n",
       "<table border=\"1\" class=\"dataframe\">\n",
       "  <thead>\n",
       "    <tr style=\"text-align: right;\">\n",
       "      <th></th>\n",
       "      <th>CATALOG_NM</th>\n",
       "      <th>KEYWORD</th>\n",
       "      <th>INPUT_DT</th>\n",
       "      <th>UPDATE_DT</th>\n",
       "      <th>REMOTEIP</th>\n",
       "      <th>judge</th>\n",
       "    </tr>\n",
       "  </thead>\n",
       "  <tbody>\n",
       "    <tr>\n",
       "      <th>0</th>\n",
       "      <td>new season 2023 black tea ctc milk tea fulmex ...</td>\n",
       "      <td>milk teactc black teafulmex tea</td>\n",
       "      <td>20230228005732</td>\n",
       "      <td>20230228005732</td>\n",
       "      <td>14.177.113.144</td>\n",
       "      <td>1</td>\n",
       "    </tr>\n",
       "    <tr>\n",
       "      <th>1</th>\n",
       "      <td>cow mat</td>\n",
       "      <td>rubber matcow matrubb floor matpashu chataidai...</td>\n",
       "      <td>20230227231604</td>\n",
       "      <td>20230227231604</td>\n",
       "      <td>49.34.172.73</td>\n",
       "      <td>1</td>\n",
       "    </tr>\n",
       "    <tr>\n",
       "      <th>2</th>\n",
       "      <td>5 1 multifunct 4d hifu ultra lift needl rf vma...</td>\n",
       "      <td>4d hifu ultra lift5 1 hifu4d hifu lift4d needl...</td>\n",
       "      <td>20230227224740</td>\n",
       "      <td>20230227224740</td>\n",
       "      <td>159.138.61.247</td>\n",
       "      <td>1</td>\n",
       "    </tr>\n",
       "    <tr>\n",
       "      <th>3</th>\n",
       "      <td>6mm 612 electr dc mini vibrat motor vr massag ...</td>\n",
       "      <td>vibrat motordc motorcoreless motormini motorsm...</td>\n",
       "      <td>20230227223506</td>\n",
       "      <td>20230227223506</td>\n",
       "      <td>103.167.134.61</td>\n",
       "      <td>1</td>\n",
       "    </tr>\n",
       "    <tr>\n",
       "      <th>4</th>\n",
       "      <td>pe foam sheet extrud epe foam sheet extrud foa...</td>\n",
       "      <td>pe foam sheet extruderp foam extrusionep foam ...</td>\n",
       "      <td>20230227214151</td>\n",
       "      <td>20230227214151</td>\n",
       "      <td>118.41.162.204</td>\n",
       "      <td>1</td>\n",
       "    </tr>\n",
       "  </tbody>\n",
       "</table>\n",
       "</div>"
      ],
      "text/plain": [
       "                                          CATALOG_NM  \\\n",
       "0  new season 2023 black tea ctc milk tea fulmex ...   \n",
       "1                                            cow mat   \n",
       "2  5 1 multifunct 4d hifu ultra lift needl rf vma...   \n",
       "3  6mm 612 electr dc mini vibrat motor vr massag ...   \n",
       "4  pe foam sheet extrud epe foam sheet extrud foa...   \n",
       "\n",
       "                                             KEYWORD        INPUT_DT  \\\n",
       "0                    milk teactc black teafulmex tea  20230228005732   \n",
       "1  rubber matcow matrubb floor matpashu chataidai...  20230227231604   \n",
       "2  4d hifu ultra lift5 1 hifu4d hifu lift4d needl...  20230227224740   \n",
       "3  vibrat motordc motorcoreless motormini motorsm...  20230227223506   \n",
       "4  pe foam sheet extruderp foam extrusionep foam ...  20230227214151   \n",
       "\n",
       "        UPDATE_DT        REMOTEIP  judge  \n",
       "0  20230228005732  14.177.113.144      1  \n",
       "1  20230227231604    49.34.172.73      1  \n",
       "2  20230227224740  159.138.61.247      1  \n",
       "3  20230227223506  103.167.134.61      1  \n",
       "4  20230227214151  118.41.162.204      1  "
      ]
     },
     "execution_count": 26,
     "metadata": {},
     "output_type": "execute_result"
    }
   ],
   "source": [
    "normal_item_2022.head()"
   ]
  },
  {
   "cell_type": "code",
   "execution_count": 19,
   "metadata": {},
   "outputs": [
    {
     "data": {
      "text/html": [
       "<div>\n",
       "<style scoped>\n",
       "    .dataframe tbody tr th:only-of-type {\n",
       "        vertical-align: middle;\n",
       "    }\n",
       "\n",
       "    .dataframe tbody tr th {\n",
       "        vertical-align: top;\n",
       "    }\n",
       "\n",
       "    .dataframe thead th {\n",
       "        text-align: right;\n",
       "    }\n",
       "</style>\n",
       "<table border=\"1\" class=\"dataframe\">\n",
       "  <thead>\n",
       "    <tr style=\"text-align: right;\">\n",
       "      <th></th>\n",
       "      <th>CATALOG_NM</th>\n",
       "      <th>KEYWORD</th>\n",
       "      <th>DISPLAY</th>\n",
       "      <th>INPUT_DT</th>\n",
       "      <th>UPDATE_DT</th>\n",
       "      <th>REMOTEIP</th>\n",
       "      <th>SHOW_CHK</th>\n",
       "      <th>judge</th>\n",
       "    </tr>\n",
       "  </thead>\n",
       "  <tbody>\n",
       "    <tr>\n",
       "      <th>0</th>\n",
       "      <td>new season 2023 black tea ctc milk tea fulmex ...</td>\n",
       "      <td>milk teactc black teafulmex tea</td>\n",
       "      <td></td>\n",
       "      <td>20230228005732</td>\n",
       "      <td>20230228005732</td>\n",
       "      <td>14.177.113.144</td>\n",
       "      <td></td>\n",
       "      <td>1</td>\n",
       "    </tr>\n",
       "    <tr>\n",
       "      <th>1</th>\n",
       "      <td>cow mat</td>\n",
       "      <td>rubber matcow matrubb floor matpashu chataidai...</td>\n",
       "      <td></td>\n",
       "      <td>20230227231604</td>\n",
       "      <td>20230227231604</td>\n",
       "      <td>49.34.172.73</td>\n",
       "      <td></td>\n",
       "      <td>1</td>\n",
       "    </tr>\n",
       "    <tr>\n",
       "      <th>2</th>\n",
       "      <td>5 1 multifunct 4d hifu ultra lift needl rf vma...</td>\n",
       "      <td>4d hifu ultra lift5 1 hifu4d hifu lift4d needl...</td>\n",
       "      <td></td>\n",
       "      <td>20230227224740</td>\n",
       "      <td>20230227224740</td>\n",
       "      <td>159.138.61.247</td>\n",
       "      <td></td>\n",
       "      <td>1</td>\n",
       "    </tr>\n",
       "    <tr>\n",
       "      <th>3</th>\n",
       "      <td>6mm 612 electr dc mini vibrat motor vr massag ...</td>\n",
       "      <td>vibrat motordc motorcoreless motormini motorsm...</td>\n",
       "      <td></td>\n",
       "      <td>20230227223506</td>\n",
       "      <td>20230227223506</td>\n",
       "      <td>103.167.134.61</td>\n",
       "      <td></td>\n",
       "      <td>1</td>\n",
       "    </tr>\n",
       "    <tr>\n",
       "      <th>4</th>\n",
       "      <td>pe foam sheet extrud epe foam sheet extrud foa...</td>\n",
       "      <td>pe foam sheet extruderp foam extrusionep foam ...</td>\n",
       "      <td></td>\n",
       "      <td>20230227214151</td>\n",
       "      <td>20230227214151</td>\n",
       "      <td>118.41.162.204</td>\n",
       "      <td></td>\n",
       "      <td>1</td>\n",
       "    </tr>\n",
       "  </tbody>\n",
       "</table>\n",
       "</div>"
      ],
      "text/plain": [
       "                                          CATALOG_NM  \\\n",
       "0  new season 2023 black tea ctc milk tea fulmex ...   \n",
       "1                                            cow mat   \n",
       "2  5 1 multifunct 4d hifu ultra lift needl rf vma...   \n",
       "3  6mm 612 electr dc mini vibrat motor vr massag ...   \n",
       "4  pe foam sheet extrud epe foam sheet extrud foa...   \n",
       "\n",
       "                                             KEYWORD DISPLAY        INPUT_DT  \\\n",
       "0                    milk teactc black teafulmex tea          20230228005732   \n",
       "1  rubber matcow matrubb floor matpashu chataidai...          20230227231604   \n",
       "2  4d hifu ultra lift5 1 hifu4d hifu lift4d needl...          20230227224740   \n",
       "3  vibrat motordc motorcoreless motormini motorsm...          20230227223506   \n",
       "4  pe foam sheet extruderp foam extrusionep foam ...          20230227214151   \n",
       "\n",
       "        UPDATE_DT        REMOTEIP SHOW_CHK  judge  \n",
       "0  20230228005732  14.177.113.144               1  \n",
       "1  20230227231604    49.34.172.73               1  \n",
       "2  20230227224740  159.138.61.247               1  \n",
       "3  20230227223506  103.167.134.61               1  \n",
       "4  20230227214151  118.41.162.204               1  "
      ]
     },
     "execution_count": 19,
     "metadata": {},
     "output_type": "execute_result"
    }
   ],
   "source": [
    "columns_to_process = ['DISPLAY', 'SHOW_CHK','CATALOG_NM', 'KEYWORD']\n",
    "for column in columns_to_process:\n",
    "    weird_item_2022[column] = weird_item_2022[column].apply(preprocess_text)\n",
    "    weird_item_2022[column] = weird_item_2022[column].apply(remove_stopwords)\n",
    "    weird_item_2022[column] = weird_item_2022[column].apply(apply_stemming)  # or apply_lemmatization if you prefer\n",
    "\n",
    "# Displaying the updated DataFrame\n",
    "normal_item_2022.head()"
   ]
  },
  {
   "cell_type": "code",
   "execution_count": 27,
   "metadata": {},
   "outputs": [
    {
     "data": {
      "text/html": [
       "<div>\n",
       "<style scoped>\n",
       "    .dataframe tbody tr th:only-of-type {\n",
       "        vertical-align: middle;\n",
       "    }\n",
       "\n",
       "    .dataframe tbody tr th {\n",
       "        vertical-align: top;\n",
       "    }\n",
       "\n",
       "    .dataframe thead th {\n",
       "        text-align: right;\n",
       "    }\n",
       "</style>\n",
       "<table border=\"1\" class=\"dataframe\">\n",
       "  <thead>\n",
       "    <tr style=\"text-align: right;\">\n",
       "      <th></th>\n",
       "      <th>CATALOG_NM</th>\n",
       "      <th>KEYWORD</th>\n",
       "      <th>INPUT_DT</th>\n",
       "      <th>UPDATE_DT</th>\n",
       "      <th>REMOTEIP</th>\n",
       "      <th>judge</th>\n",
       "    </tr>\n",
       "  </thead>\n",
       "  <tbody>\n",
       "    <tr>\n",
       "      <th>0</th>\n",
       "      <td>1boc44bromophenylaminopiperidineca 443998650</td>\n",
       "      <td>1boc4 4bromophenylam</td>\n",
       "      <td>20230228100427</td>\n",
       "      <td>20230228100427</td>\n",
       "      <td>219.78.227.175</td>\n",
       "      <td>0</td>\n",
       "    </tr>\n",
       "    <tr>\n",
       "      <th>1</th>\n",
       "      <td>high puriti n tertbutoxycarbonyl 4piperidon ca...</td>\n",
       "      <td>n tertbutoxycarbonyl 4</td>\n",
       "      <td>20230228094237</td>\n",
       "      <td>20230228094237</td>\n",
       "      <td>42.3.79.92</td>\n",
       "      <td>0</td>\n",
       "    </tr>\n",
       "    <tr>\n",
       "      <th>2</th>\n",
       "      <td>11dimethylethyl ester ca 288573568</td>\n",
       "      <td>1boc4 4fluorophenyla</td>\n",
       "      <td>20230228093820</td>\n",
       "      <td>20230228093820</td>\n",
       "      <td>42.3.79.92</td>\n",
       "      <td>0</td>\n",
       "    </tr>\n",
       "    <tr>\n",
       "      <th>3</th>\n",
       "      <td>white crystal nisopropylbenzylamin ca 102976 i...</td>\n",
       "      <td>nisopropylbenzylamin</td>\n",
       "      <td>20230228091028</td>\n",
       "      <td>20230228091028</td>\n",
       "      <td>42.3.79.92</td>\n",
       "      <td>0</td>\n",
       "    </tr>\n",
       "    <tr>\n",
       "      <th>4</th>\n",
       "      <td>soybean gmo nongmo</td>\n",
       "      <td>soybean soybean gmo</td>\n",
       "      <td>20230228075935</td>\n",
       "      <td>20230228075935</td>\n",
       "      <td>131.196.216.214</td>\n",
       "      <td>0</td>\n",
       "    </tr>\n",
       "  </tbody>\n",
       "</table>\n",
       "</div>"
      ],
      "text/plain": [
       "                                          CATALOG_NM                 KEYWORD  \\\n",
       "0       1boc44bromophenylaminopiperidineca 443998650    1boc4 4bromophenylam   \n",
       "1  high puriti n tertbutoxycarbonyl 4piperidon ca...  n tertbutoxycarbonyl 4   \n",
       "2                 11dimethylethyl ester ca 288573568    1boc4 4fluorophenyla   \n",
       "3  white crystal nisopropylbenzylamin ca 102976 i...    nisopropylbenzylamin   \n",
       "4                                 soybean gmo nongmo     soybean soybean gmo   \n",
       "\n",
       "         INPUT_DT       UPDATE_DT         REMOTEIP  judge  \n",
       "0  20230228100427  20230228100427   219.78.227.175      0  \n",
       "1  20230228094237  20230228094237       42.3.79.92      0  \n",
       "2  20230228093820  20230228093820       42.3.79.92      0  \n",
       "3  20230228091028  20230228091028       42.3.79.92      0  \n",
       "4  20230228075935  20230228075935  131.196.216.214      0  "
      ]
     },
     "execution_count": 27,
     "metadata": {},
     "output_type": "execute_result"
    }
   ],
   "source": [
    "weird_item_2022.head()"
   ]
  },
  {
   "cell_type": "code",
   "execution_count": 21,
   "metadata": {},
   "outputs": [],
   "source": [
    "normal_item_2022 = normal_item_2022.drop(['DISPLAY', 'SHOW_CHK'], axis=1)\n",
    "weird_item_2022 = weird_item_2022.drop(['DISPLAY', 'SHOW_CHK'], axis=1)"
   ]
  },
  {
   "cell_type": "markdown",
   "metadata": {},
   "source": [
    "## 이상상품, 정상상품 CONCAT"
   ]
  },
  {
   "cell_type": "code",
   "execution_count": 22,
   "metadata": {},
   "outputs": [
    {
     "data": {
      "text/plain": [
       "judge\n",
       "1    538722\n",
       "0    212593\n",
       "Name: count, dtype: int64"
      ]
     },
     "execution_count": 22,
     "metadata": {},
     "output_type": "execute_result"
    }
   ],
   "source": [
    "merged_df = pd.concat([normal_item_2022, weird_item_2022], ignore_index=True)\n",
    "\n",
    "# Display the merged DataFrame\n",
    "merged_df['judge'].value_counts()"
   ]
  },
  {
   "cell_type": "code",
   "execution_count": 23,
   "metadata": {},
   "outputs": [
    {
     "data": {
      "text/html": [
       "<div>\n",
       "<style scoped>\n",
       "    .dataframe tbody tr th:only-of-type {\n",
       "        vertical-align: middle;\n",
       "    }\n",
       "\n",
       "    .dataframe tbody tr th {\n",
       "        vertical-align: top;\n",
       "    }\n",
       "\n",
       "    .dataframe thead th {\n",
       "        text-align: right;\n",
       "    }\n",
       "</style>\n",
       "<table border=\"1\" class=\"dataframe\">\n",
       "  <thead>\n",
       "    <tr style=\"text-align: right;\">\n",
       "      <th></th>\n",
       "      <th>CATALOG_NM</th>\n",
       "      <th>KEYWORD</th>\n",
       "      <th>INPUT_DT</th>\n",
       "      <th>UPDATE_DT</th>\n",
       "      <th>REMOTEIP</th>\n",
       "      <th>judge</th>\n",
       "    </tr>\n",
       "  </thead>\n",
       "  <tbody>\n",
       "    <tr>\n",
       "      <th>0</th>\n",
       "      <td>new season 2023 black tea ctc milk tea fulmex ...</td>\n",
       "      <td>milk teactc black teafulmex tea</td>\n",
       "      <td>20230228005732</td>\n",
       "      <td>20230228005732</td>\n",
       "      <td>14.177.113.144</td>\n",
       "      <td>1</td>\n",
       "    </tr>\n",
       "    <tr>\n",
       "      <th>1</th>\n",
       "      <td>cow mat</td>\n",
       "      <td>rubber matcow matrubb floor matpashu chataidai...</td>\n",
       "      <td>20230227231604</td>\n",
       "      <td>20230227231604</td>\n",
       "      <td>49.34.172.73</td>\n",
       "      <td>1</td>\n",
       "    </tr>\n",
       "    <tr>\n",
       "      <th>2</th>\n",
       "      <td>5 1 multifunct 4d hifu ultra lift needl rf vma...</td>\n",
       "      <td>4d hifu ultra lift5 1 hifu4d hifu lift4d needl...</td>\n",
       "      <td>20230227224740</td>\n",
       "      <td>20230227224740</td>\n",
       "      <td>159.138.61.247</td>\n",
       "      <td>1</td>\n",
       "    </tr>\n",
       "    <tr>\n",
       "      <th>3</th>\n",
       "      <td>6mm 612 electr dc mini vibrat motor vr massag ...</td>\n",
       "      <td>vibrat motordc motorcoreless motormini motorsm...</td>\n",
       "      <td>20230227223506</td>\n",
       "      <td>20230227223506</td>\n",
       "      <td>103.167.134.61</td>\n",
       "      <td>1</td>\n",
       "    </tr>\n",
       "    <tr>\n",
       "      <th>4</th>\n",
       "      <td>pe foam sheet extrud epe foam sheet extrud foa...</td>\n",
       "      <td>pe foam sheet extruderp foam extrusionep foam ...</td>\n",
       "      <td>20230227214151</td>\n",
       "      <td>20230227214151</td>\n",
       "      <td>118.41.162.204</td>\n",
       "      <td>1</td>\n",
       "    </tr>\n",
       "  </tbody>\n",
       "</table>\n",
       "</div>"
      ],
      "text/plain": [
       "                                          CATALOG_NM  \\\n",
       "0  new season 2023 black tea ctc milk tea fulmex ...   \n",
       "1                                            cow mat   \n",
       "2  5 1 multifunct 4d hifu ultra lift needl rf vma...   \n",
       "3  6mm 612 electr dc mini vibrat motor vr massag ...   \n",
       "4  pe foam sheet extrud epe foam sheet extrud foa...   \n",
       "\n",
       "                                             KEYWORD        INPUT_DT  \\\n",
       "0                    milk teactc black teafulmex tea  20230228005732   \n",
       "1  rubber matcow matrubb floor matpashu chataidai...  20230227231604   \n",
       "2  4d hifu ultra lift5 1 hifu4d hifu lift4d needl...  20230227224740   \n",
       "3  vibrat motordc motorcoreless motormini motorsm...  20230227223506   \n",
       "4  pe foam sheet extruderp foam extrusionep foam ...  20230227214151   \n",
       "\n",
       "        UPDATE_DT        REMOTEIP  judge  \n",
       "0  20230228005732  14.177.113.144      1  \n",
       "1  20230227231604    49.34.172.73      1  \n",
       "2  20230227224740  159.138.61.247      1  \n",
       "3  20230227223506  103.167.134.61      1  \n",
       "4  20230227214151  118.41.162.204      1  "
      ]
     },
     "execution_count": 23,
     "metadata": {},
     "output_type": "execute_result"
    }
   ],
   "source": [
    "merged_df.head()"
   ]
  },
  {
   "cell_type": "markdown",
   "metadata": {},
   "source": [
    "## 카탈로그, 키워드 열 카운트벡터"
   ]
  },
  {
   "cell_type": "code",
   "execution_count": 24,
   "metadata": {},
   "outputs": [],
   "source": [
    "from sklearn.feature_extraction.text import CountVectorizer"
   ]
  },
  {
   "cell_type": "code",
   "execution_count": 28,
   "metadata": {},
   "outputs": [],
   "source": [
    "merged_df['REMOTEIP'] = merged_df['REMOTEIP'].str.replace('.', '')"
   ]
  },
  {
   "cell_type": "code",
   "execution_count": 29,
   "metadata": {},
   "outputs": [
    {
     "data": {
      "text/html": [
       "<div>\n",
       "<style scoped>\n",
       "    .dataframe tbody tr th:only-of-type {\n",
       "        vertical-align: middle;\n",
       "    }\n",
       "\n",
       "    .dataframe tbody tr th {\n",
       "        vertical-align: top;\n",
       "    }\n",
       "\n",
       "    .dataframe thead th {\n",
       "        text-align: right;\n",
       "    }\n",
       "</style>\n",
       "<table border=\"1\" class=\"dataframe\">\n",
       "  <thead>\n",
       "    <tr style=\"text-align: right;\">\n",
       "      <th></th>\n",
       "      <th>CATALOG_NM</th>\n",
       "      <th>KEYWORD</th>\n",
       "      <th>INPUT_DT</th>\n",
       "      <th>UPDATE_DT</th>\n",
       "      <th>REMOTEIP</th>\n",
       "      <th>judge</th>\n",
       "    </tr>\n",
       "  </thead>\n",
       "  <tbody>\n",
       "    <tr>\n",
       "      <th>0</th>\n",
       "      <td>new season 2023 black tea ctc milk tea fulmex ...</td>\n",
       "      <td>milk teactc black teafulmex tea</td>\n",
       "      <td>20230228005732</td>\n",
       "      <td>20230228005732</td>\n",
       "      <td>14177113144</td>\n",
       "      <td>1</td>\n",
       "    </tr>\n",
       "    <tr>\n",
       "      <th>1</th>\n",
       "      <td>cow mat</td>\n",
       "      <td>rubber matcow matrubb floor matpashu chataidai...</td>\n",
       "      <td>20230227231604</td>\n",
       "      <td>20230227231604</td>\n",
       "      <td>493417273</td>\n",
       "      <td>1</td>\n",
       "    </tr>\n",
       "    <tr>\n",
       "      <th>2</th>\n",
       "      <td>5 1 multifunct 4d hifu ultra lift needl rf vma...</td>\n",
       "      <td>4d hifu ultra lift5 1 hifu4d hifu lift4d needl...</td>\n",
       "      <td>20230227224740</td>\n",
       "      <td>20230227224740</td>\n",
       "      <td>15913861247</td>\n",
       "      <td>1</td>\n",
       "    </tr>\n",
       "    <tr>\n",
       "      <th>3</th>\n",
       "      <td>6mm 612 electr dc mini vibrat motor vr massag ...</td>\n",
       "      <td>vibrat motordc motorcoreless motormini motorsm...</td>\n",
       "      <td>20230227223506</td>\n",
       "      <td>20230227223506</td>\n",
       "      <td>10316713461</td>\n",
       "      <td>1</td>\n",
       "    </tr>\n",
       "    <tr>\n",
       "      <th>4</th>\n",
       "      <td>pe foam sheet extrud epe foam sheet extrud foa...</td>\n",
       "      <td>pe foam sheet extruderp foam extrusionep foam ...</td>\n",
       "      <td>20230227214151</td>\n",
       "      <td>20230227214151</td>\n",
       "      <td>11841162204</td>\n",
       "      <td>1</td>\n",
       "    </tr>\n",
       "  </tbody>\n",
       "</table>\n",
       "</div>"
      ],
      "text/plain": [
       "                                          CATALOG_NM  \\\n",
       "0  new season 2023 black tea ctc milk tea fulmex ...   \n",
       "1                                            cow mat   \n",
       "2  5 1 multifunct 4d hifu ultra lift needl rf vma...   \n",
       "3  6mm 612 electr dc mini vibrat motor vr massag ...   \n",
       "4  pe foam sheet extrud epe foam sheet extrud foa...   \n",
       "\n",
       "                                             KEYWORD        INPUT_DT  \\\n",
       "0                    milk teactc black teafulmex tea  20230228005732   \n",
       "1  rubber matcow matrubb floor matpashu chataidai...  20230227231604   \n",
       "2  4d hifu ultra lift5 1 hifu4d hifu lift4d needl...  20230227224740   \n",
       "3  vibrat motordc motorcoreless motormini motorsm...  20230227223506   \n",
       "4  pe foam sheet extruderp foam extrusionep foam ...  20230227214151   \n",
       "\n",
       "        UPDATE_DT     REMOTEIP  judge  \n",
       "0  20230228005732  14177113144      1  \n",
       "1  20230227231604    493417273      1  \n",
       "2  20230227224740  15913861247      1  \n",
       "3  20230227223506  10316713461      1  \n",
       "4  20230227214151  11841162204      1  "
      ]
     },
     "execution_count": 29,
     "metadata": {},
     "output_type": "execute_result"
    }
   ],
   "source": [
    "merged_df.head()"
   ]
  },
  {
   "cell_type": "markdown",
   "metadata": {},
   "source": [
    "## 라벨 인코딩"
   ]
  },
  {
   "cell_type": "code",
   "execution_count": 30,
   "metadata": {},
   "outputs": [],
   "source": [
    "from sklearn.preprocessing import LabelEncoder"
   ]
  },
  {
   "cell_type": "code",
   "execution_count": 31,
   "metadata": {},
   "outputs": [
    {
     "name": "stdout",
     "output_type": "stream",
     "text": [
      "              INPUT_DT       UPDATE_DT     REMOTEIP  judge  \\\n",
      "0       20230228005732  20230228005732  14177113144      1   \n",
      "1       20230227231604  20230227231604    493417273      1   \n",
      "2       20230227224740  20230227224740  15913861247      1   \n",
      "3       20230227223506  20230227223506  10316713461      1   \n",
      "4       20230227214151  20230227214151  11841162204      1   \n",
      "...                ...             ...          ...    ...   \n",
      "751310  20180101031323  20180101031323   9122621280      0   \n",
      "751311  20180101031009  20180101031009   9122621280      0   \n",
      "751312  20180101030646  20180101030646   9122621280      0   \n",
      "751313  20180101030314  20180101030314   9122621280      0   \n",
      "751314  20180101025359  20180101025359   9122621280      0   \n",
      "\n",
      "        CATALOG_NM_encoded  KEYWORD_encoded  \n",
      "0                   309996           213049  \n",
      "1                   135858           281551  \n",
      "2                    33402             8042  \n",
      "3                    38098           341147  \n",
      "4                   335496           242581  \n",
      "...                    ...              ...  \n",
      "751310              201685            27524  \n",
      "751311              344790            45249  \n",
      "751312              375214            45249  \n",
      "751313              133173            85214  \n",
      "751314               67929           149720  \n",
      "\n",
      "[751315 rows x 6 columns]\n"
     ]
    }
   ],
   "source": [
    "if 'CATALOG_NM' in merged_df.columns and 'KEYWORD' in merged_df.columns:\n",
    "    label_encoder = LabelEncoder()\n",
    "\n",
    "    # Label encode 'CATALOG_NM' and 'KEYWORD' columns\n",
    "    merged_df['CATALOG_NM_encoded'] = label_encoder.fit_transform(merged_df['CATALOG_NM'])\n",
    "    merged_df['KEYWORD_encoded'] = label_encoder.fit_transform(merged_df['KEYWORD'])\n",
    "\n",
    "    # Drop the original 'CATALOG_NM' and 'KEYWORD' columns\n",
    "    merged_df = merged_df.drop(['CATALOG_NM', 'KEYWORD'], axis=1)\n",
    "\n",
    "    # Display the updated DataFrame\n",
    "    print(merged_df)\n",
    "else:\n",
    "    print(\"The necessary columns 'CATALOG_NM' and/or 'KEYWORD' are missing.\")"
   ]
  },
  {
   "cell_type": "code",
   "execution_count": 32,
   "metadata": {},
   "outputs": [
    {
     "data": {
      "text/html": [
       "<div>\n",
       "<style scoped>\n",
       "    .dataframe tbody tr th:only-of-type {\n",
       "        vertical-align: middle;\n",
       "    }\n",
       "\n",
       "    .dataframe tbody tr th {\n",
       "        vertical-align: top;\n",
       "    }\n",
       "\n",
       "    .dataframe thead th {\n",
       "        text-align: right;\n",
       "    }\n",
       "</style>\n",
       "<table border=\"1\" class=\"dataframe\">\n",
       "  <thead>\n",
       "    <tr style=\"text-align: right;\">\n",
       "      <th></th>\n",
       "      <th>INPUT_DT</th>\n",
       "      <th>UPDATE_DT</th>\n",
       "      <th>REMOTEIP</th>\n",
       "      <th>judge</th>\n",
       "      <th>CATALOG_NM_encoded</th>\n",
       "      <th>KEYWORD_encoded</th>\n",
       "    </tr>\n",
       "  </thead>\n",
       "  <tbody>\n",
       "    <tr>\n",
       "      <th>0</th>\n",
       "      <td>20230228005732</td>\n",
       "      <td>20230228005732</td>\n",
       "      <td>14177113144</td>\n",
       "      <td>1</td>\n",
       "      <td>309996</td>\n",
       "      <td>213049</td>\n",
       "    </tr>\n",
       "    <tr>\n",
       "      <th>1</th>\n",
       "      <td>20230227231604</td>\n",
       "      <td>20230227231604</td>\n",
       "      <td>493417273</td>\n",
       "      <td>1</td>\n",
       "      <td>135858</td>\n",
       "      <td>281551</td>\n",
       "    </tr>\n",
       "    <tr>\n",
       "      <th>2</th>\n",
       "      <td>20230227224740</td>\n",
       "      <td>20230227224740</td>\n",
       "      <td>15913861247</td>\n",
       "      <td>1</td>\n",
       "      <td>33402</td>\n",
       "      <td>8042</td>\n",
       "    </tr>\n",
       "    <tr>\n",
       "      <th>3</th>\n",
       "      <td>20230227223506</td>\n",
       "      <td>20230227223506</td>\n",
       "      <td>10316713461</td>\n",
       "      <td>1</td>\n",
       "      <td>38098</td>\n",
       "      <td>341147</td>\n",
       "    </tr>\n",
       "    <tr>\n",
       "      <th>4</th>\n",
       "      <td>20230227214151</td>\n",
       "      <td>20230227214151</td>\n",
       "      <td>11841162204</td>\n",
       "      <td>1</td>\n",
       "      <td>335496</td>\n",
       "      <td>242581</td>\n",
       "    </tr>\n",
       "  </tbody>\n",
       "</table>\n",
       "</div>"
      ],
      "text/plain": [
       "         INPUT_DT       UPDATE_DT     REMOTEIP  judge  CATALOG_NM_encoded  \\\n",
       "0  20230228005732  20230228005732  14177113144      1              309996   \n",
       "1  20230227231604  20230227231604    493417273      1              135858   \n",
       "2  20230227224740  20230227224740  15913861247      1               33402   \n",
       "3  20230227223506  20230227223506  10316713461      1               38098   \n",
       "4  20230227214151  20230227214151  11841162204      1              335496   \n",
       "\n",
       "   KEYWORD_encoded  \n",
       "0           213049  \n",
       "1           281551  \n",
       "2             8042  \n",
       "3           341147  \n",
       "4           242581  "
      ]
     },
     "execution_count": 32,
     "metadata": {},
     "output_type": "execute_result"
    }
   ],
   "source": [
    "merged_df.head()"
   ]
  },
  {
   "cell_type": "code",
   "execution_count": 33,
   "metadata": {},
   "outputs": [
    {
     "data": {
      "text/plain": [
       "judge\n",
       "1    538722\n",
       "0    212593\n",
       "Name: count, dtype: int64"
      ]
     },
     "execution_count": 33,
     "metadata": {},
     "output_type": "execute_result"
    }
   ],
   "source": [
    "merged_df['judge'].value_counts()"
   ]
  },
  {
   "cell_type": "markdown",
   "metadata": {},
   "source": [
    "## 머신러닝 모델 패키지 설치"
   ]
  },
  {
   "cell_type": "code",
   "execution_count": 34,
   "metadata": {},
   "outputs": [],
   "source": [
    "from sklearn.model_selection import train_test_split\n",
    "from sklearn.tree import DecisionTreeClassifier\n",
    "from sklearn.ensemble import RandomForestClassifier\n",
    "from sklearn.metrics import accuracy_score, classification_report, confusion_matrix"
   ]
  },
  {
   "cell_type": "markdown",
   "metadata": {},
   "source": [
    "## 디시젼 트리, 랜덤 포레스트 모델"
   ]
  },
  {
   "cell_type": "code",
   "execution_count": 35,
   "metadata": {},
   "outputs": [
    {
     "name": "stdout",
     "output_type": "stream",
     "text": [
      "Decision Tree Model:\n",
      "Accuracy: 0.9141438677518751\n",
      "Classification Report:\n",
      "               precision    recall  f1-score   support\n",
      "\n",
      "           0       0.84      0.85      0.85     42437\n",
      "           1       0.94      0.94      0.94    107826\n",
      "\n",
      "    accuracy                           0.91    150263\n",
      "   macro avg       0.89      0.90      0.89    150263\n",
      "weighted avg       0.91      0.91      0.91    150263\n",
      "\n",
      "Confusion Matrix:\n",
      " [[ 36194   6243]\n",
      " [  6658 101168]]\n",
      "\n",
      "Random Forest Model:\n",
      "Accuracy: 0.9411365405988168\n",
      "Classification Report:\n",
      "               precision    recall  f1-score   support\n",
      "\n",
      "           0       0.95      0.83      0.89     42437\n",
      "           1       0.94      0.98      0.96    107826\n",
      "\n",
      "    accuracy                           0.94    150263\n",
      "   macro avg       0.94      0.91      0.92    150263\n",
      "weighted avg       0.94      0.94      0.94    150263\n",
      "\n",
      "Confusion Matrix:\n",
      " [[ 35355   7082]\n",
      " [  1763 106063]]\n"
     ]
    }
   ],
   "source": [
    "X = merged_df.drop('judge', axis=1)\n",
    "y = merged_df['judge']\n",
    "\n",
    "# Split the data into training and testing sets\n",
    "X_train, X_test, y_train, y_test = train_test_split(X, y, test_size=0.2, random_state=42)\n",
    "\n",
    "# Decision Tree Model\n",
    "decision_tree_model = DecisionTreeClassifier(random_state=42)\n",
    "decision_tree_model.fit(X_train, y_train)\n",
    "\n",
    "# Random Forest Model\n",
    "random_forest_model = RandomForestClassifier(random_state=42)\n",
    "random_forest_model.fit(X_train, y_train)\n",
    "\n",
    "# Make predictions on the test set\n",
    "y_pred_decision_tree = decision_tree_model.predict(X_test)\n",
    "y_pred_random_forest = random_forest_model.predict(X_test)\n",
    "\n",
    "# Evaluate Decision Tree Model\n",
    "print(\"Decision Tree Model:\")\n",
    "print(\"Accuracy:\", accuracy_score(y_test, y_pred_decision_tree))\n",
    "print(\"Classification Report:\\n\", classification_report(y_test, y_pred_decision_tree))\n",
    "print(\"Confusion Matrix:\\n\", confusion_matrix(y_test, y_pred_decision_tree))\n",
    "\n",
    "# Evaluate Random Forest Model\n",
    "print(\"\\nRandom Forest Model:\")\n",
    "print(\"Accuracy:\", accuracy_score(y_test, y_pred_random_forest))\n",
    "print(\"Classification Report:\\n\", classification_report(y_test, y_pred_random_forest))\n",
    "print(\"Confusion Matrix:\\n\", confusion_matrix(y_test, y_pred_random_forest))"
   ]
  },
  {
   "cell_type": "markdown",
   "metadata": {},
   "source": [
    "## 실제 데이터 입력"
   ]
  },
  {
   "cell_type": "markdown",
   "metadata": {},
   "source": [
    "### 실제 데이터에서 랜덤으로 20개 추출 "
   ]
  },
  {
   "cell_type": "code",
   "execution_count": 47,
   "metadata": {},
   "outputs": [
    {
     "data": {
      "text/html": [
       "<div>\n",
       "<style scoped>\n",
       "    .dataframe tbody tr th:only-of-type {\n",
       "        vertical-align: middle;\n",
       "    }\n",
       "\n",
       "    .dataframe tbody tr th {\n",
       "        vertical-align: top;\n",
       "    }\n",
       "\n",
       "    .dataframe thead th {\n",
       "        text-align: right;\n",
       "    }\n",
       "</style>\n",
       "<table border=\"1\" class=\"dataframe\">\n",
       "  <thead>\n",
       "    <tr style=\"text-align: right;\">\n",
       "      <th></th>\n",
       "      <th>INPUT_DT</th>\n",
       "      <th>UPDATE_DT</th>\n",
       "      <th>REMOTEIP</th>\n",
       "      <th>judge</th>\n",
       "      <th>CATALOG_NM_encoded</th>\n",
       "      <th>KEYWORD_encoded</th>\n",
       "    </tr>\n",
       "  </thead>\n",
       "  <tbody>\n",
       "    <tr>\n",
       "      <th>424815</th>\n",
       "      <td>20181010135044</td>\n",
       "      <td>20181010135044</td>\n",
       "      <td>183207172240</td>\n",
       "      <td>1</td>\n",
       "      <td>347211</td>\n",
       "      <td>99779</td>\n",
       "    </tr>\n",
       "    <tr>\n",
       "      <th>538734</th>\n",
       "      <td>20230227170552</td>\n",
       "      <td>20230227170552</td>\n",
       "      <td>22024612462</td>\n",
       "      <td>0</td>\n",
       "      <td>88588</td>\n",
       "      <td>46017</td>\n",
       "    </tr>\n",
       "    <tr>\n",
       "      <th>303681</th>\n",
       "      <td>20191210143447</td>\n",
       "      <td>20191230152344</td>\n",
       "      <td>149129120204</td>\n",
       "      <td>1</td>\n",
       "      <td>24908</td>\n",
       "      <td>233063</td>\n",
       "    </tr>\n",
       "    <tr>\n",
       "      <th>598332</th>\n",
       "      <td>20220607144934</td>\n",
       "      <td>202206080908</td>\n",
       "      <td>10413131150</td>\n",
       "      <td>0</td>\n",
       "      <td>399644</td>\n",
       "      <td>303949</td>\n",
       "    </tr>\n",
       "    <tr>\n",
       "      <th>319122</th>\n",
       "      <td>20190924150655</td>\n",
       "      <td>20220808170338</td>\n",
       "      <td>596169206</td>\n",
       "      <td>1</td>\n",
       "      <td>117572</td>\n",
       "      <td>167642</td>\n",
       "    </tr>\n",
       "    <tr>\n",
       "      <th>432512</th>\n",
       "      <td>20180910155346</td>\n",
       "      <td>20180910155346</td>\n",
       "      <td>11388198174</td>\n",
       "      <td>1</td>\n",
       "      <td>26898</td>\n",
       "      <td>5620</td>\n",
       "    </tr>\n",
       "    <tr>\n",
       "      <th>601842</th>\n",
       "      <td>20220524000824</td>\n",
       "      <td>20220524000824</td>\n",
       "      <td>462463200</td>\n",
       "      <td>0</td>\n",
       "      <td>297158</td>\n",
       "      <td>220089</td>\n",
       "    </tr>\n",
       "    <tr>\n",
       "      <th>349133</th>\n",
       "      <td>20190602131327</td>\n",
       "      <td>201907190921</td>\n",
       "      <td>91132137102</td>\n",
       "      <td>1</td>\n",
       "      <td>450841</td>\n",
       "      <td>235447</td>\n",
       "    </tr>\n",
       "    <tr>\n",
       "      <th>727159</th>\n",
       "      <td>20190110183715</td>\n",
       "      <td>202107241449</td>\n",
       "      <td>3757116120</td>\n",
       "      <td>0</td>\n",
       "      <td>45350</td>\n",
       "      <td>348408</td>\n",
       "    </tr>\n",
       "    <tr>\n",
       "      <th>274378</th>\n",
       "      <td>20200422153242</td>\n",
       "      <td>20200422153242</td>\n",
       "      <td>22024221130</td>\n",
       "      <td>1</td>\n",
       "      <td>87510</td>\n",
       "      <td>101679</td>\n",
       "    </tr>\n",
       "    <tr>\n",
       "      <th>672417</th>\n",
       "      <td>20200822131951</td>\n",
       "      <td>20200822131951</td>\n",
       "      <td>6422711141</td>\n",
       "      <td>0</td>\n",
       "      <td>323462</td>\n",
       "      <td>111226</td>\n",
       "    </tr>\n",
       "    <tr>\n",
       "      <th>304128</th>\n",
       "      <td>20191207204344</td>\n",
       "      <td>20191207213136</td>\n",
       "      <td>113118168196</td>\n",
       "      <td>1</td>\n",
       "      <td>125922</td>\n",
       "      <td>76199</td>\n",
       "    </tr>\n",
       "    <tr>\n",
       "      <th>400873</th>\n",
       "      <td>20181211045212</td>\n",
       "      <td>20190704211056</td>\n",
       "      <td>197242115198</td>\n",
       "      <td>1</td>\n",
       "      <td>374090</td>\n",
       "      <td>279057</td>\n",
       "    </tr>\n",
       "    <tr>\n",
       "      <th>309736</th>\n",
       "      <td>20191111155434</td>\n",
       "      <td>20191126164247</td>\n",
       "      <td>180115118189</td>\n",
       "      <td>1</td>\n",
       "      <td>175369</td>\n",
       "      <td>121987</td>\n",
       "    </tr>\n",
       "    <tr>\n",
       "      <th>21358</th>\n",
       "      <td>20221114000559</td>\n",
       "      <td>20221114000559</td>\n",
       "      <td>43153218</td>\n",
       "      <td>1</td>\n",
       "      <td>238789</td>\n",
       "      <td>305352</td>\n",
       "    </tr>\n",
       "    <tr>\n",
       "      <th>694893</th>\n",
       "      <td>20200507065635</td>\n",
       "      <td>20200507065635</td>\n",
       "      <td>15718514490</td>\n",
       "      <td>0</td>\n",
       "      <td>200666</td>\n",
       "      <td>144912</td>\n",
       "    </tr>\n",
       "    <tr>\n",
       "      <th>350105</th>\n",
       "      <td>20190529134540</td>\n",
       "      <td>202208240923</td>\n",
       "      <td>1112212222</td>\n",
       "      <td>1</td>\n",
       "      <td>284903</td>\n",
       "      <td>291551</td>\n",
       "    </tr>\n",
       "    <tr>\n",
       "      <th>470067</th>\n",
       "      <td>20180619155043</td>\n",
       "      <td>20180619155043</td>\n",
       "      <td>11925430204</td>\n",
       "      <td>1</td>\n",
       "      <td>412777</td>\n",
       "      <td>257752</td>\n",
       "    </tr>\n",
       "    <tr>\n",
       "      <th>27494</th>\n",
       "      <td>20221019173558</td>\n",
       "      <td>20221019173558</td>\n",
       "      <td>10317252178</td>\n",
       "      <td>1</td>\n",
       "      <td>237525</td>\n",
       "      <td>293861</td>\n",
       "    </tr>\n",
       "    <tr>\n",
       "      <th>295927</th>\n",
       "      <td>20200123112117</td>\n",
       "      <td>20200123112117</td>\n",
       "      <td>95169563</td>\n",
       "      <td>1</td>\n",
       "      <td>71471</td>\n",
       "      <td>34652</td>\n",
       "    </tr>\n",
       "  </tbody>\n",
       "</table>\n",
       "</div>"
      ],
      "text/plain": [
       "              INPUT_DT       UPDATE_DT      REMOTEIP  judge  \\\n",
       "424815  20181010135044  20181010135044  183207172240      1   \n",
       "538734  20230227170552  20230227170552   22024612462      0   \n",
       "303681  20191210143447  20191230152344  149129120204      1   \n",
       "598332  20220607144934    202206080908   10413131150      0   \n",
       "319122  20190924150655  20220808170338     596169206      1   \n",
       "432512  20180910155346  20180910155346   11388198174      1   \n",
       "601842  20220524000824  20220524000824     462463200      0   \n",
       "349133  20190602131327    201907190921   91132137102      1   \n",
       "727159  20190110183715    202107241449    3757116120      0   \n",
       "274378  20200422153242  20200422153242   22024221130      1   \n",
       "672417  20200822131951  20200822131951    6422711141      0   \n",
       "304128  20191207204344  20191207213136  113118168196      1   \n",
       "400873  20181211045212  20190704211056  197242115198      1   \n",
       "309736  20191111155434  20191126164247  180115118189      1   \n",
       "21358   20221114000559  20221114000559      43153218      1   \n",
       "694893  20200507065635  20200507065635   15718514490      0   \n",
       "350105  20190529134540    202208240923    1112212222      1   \n",
       "470067  20180619155043  20180619155043   11925430204      1   \n",
       "27494   20221019173558  20221019173558   10317252178      1   \n",
       "295927  20200123112117  20200123112117      95169563      1   \n",
       "\n",
       "        CATALOG_NM_encoded  KEYWORD_encoded  \n",
       "424815              347211            99779  \n",
       "538734               88588            46017  \n",
       "303681               24908           233063  \n",
       "598332              399644           303949  \n",
       "319122              117572           167642  \n",
       "432512               26898             5620  \n",
       "601842              297158           220089  \n",
       "349133              450841           235447  \n",
       "727159               45350           348408  \n",
       "274378               87510           101679  \n",
       "672417              323462           111226  \n",
       "304128              125922            76199  \n",
       "400873              374090           279057  \n",
       "309736              175369           121987  \n",
       "21358               238789           305352  \n",
       "694893              200666           144912  \n",
       "350105              284903           291551  \n",
       "470067              412777           257752  \n",
       "27494               237525           293861  \n",
       "295927               71471            34652  "
      ]
     },
     "execution_count": 47,
     "metadata": {},
     "output_type": "execute_result"
    }
   ],
   "source": [
    "random_sample_df = merged_df.sample(n=20, random_state=42)\n",
    "random_sample_df.head(20)"
   ]
  },
  {
   "cell_type": "code",
   "execution_count": 48,
   "metadata": {},
   "outputs": [],
   "source": [
    "random_sample_df = random_sample_df.drop('judge', axis=1)"
   ]
  },
  {
   "cell_type": "markdown",
   "metadata": {},
   "source": [
    "### 모델 성능 결과"
   ]
  },
  {
   "cell_type": "code",
   "execution_count": 49,
   "metadata": {},
   "outputs": [
    {
     "name": "stdout",
     "output_type": "stream",
     "text": [
      "Predictions for new data: [1 1 1 0 1 1 0 1 0 1 0 1 1 1 1 0 1 1 1 1]\n"
     ]
    }
   ],
   "source": [
    "new_predictions = random_forest_model.predict(random_sample_df)\n",
    "\n",
    "# Display the predictions\n",
    "print(\"Predictions for new data:\", new_predictions)"
   ]
  },
  {
   "cell_type": "code",
   "execution_count": null,
   "metadata": {},
   "outputs": [],
   "source": [
    "1 0 1 0 1 1 0 1 0 1 0 1 1 1 0 1 1 1 1"
   ]
  }
 ],
 "metadata": {
  "kernelspec": {
   "display_name": "Python 3",
   "language": "python",
   "name": "python3"
  },
  "language_info": {
   "codemirror_mode": {
    "name": "ipython",
    "version": 3
   },
   "file_extension": ".py",
   "mimetype": "text/x-python",
   "name": "python",
   "nbconvert_exporter": "python",
   "pygments_lexer": "ipython3",
   "version": "3.11.7"
  }
 },
 "nbformat": 4,
 "nbformat_minor": 2
}
